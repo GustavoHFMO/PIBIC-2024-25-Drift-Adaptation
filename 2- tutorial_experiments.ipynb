{
 "cells": [
  {
   "cell_type": "markdown",
   "metadata": {},
   "source": [
    "# **1. Importações**"
   ]
  },
  {
   "cell_type": "markdown",
   "metadata": {},
   "source": [
    "## Importação dos Avaliadores"
   ]
  },
  {
   "cell_type": "code",
   "execution_count": 51,
   "metadata": {},
   "outputs": [],
   "source": [
    "#%pip install autorank"
   ]
  },
  {
   "cell_type": "code",
   "execution_count": 52,
   "metadata": {},
   "outputs": [],
   "source": [
    "from utils.FileManager import FileManager\n",
    "import matplotlib.pyplot as plt\n",
    "import seaborn as sns\n",
    "import pandas as pd\n",
    "import numpy as np\n",
    "\n",
    "import warnings\n",
    "warnings.filterwarnings(\"ignore\")\n",
    "\n",
    "from autorank import autorank, plot_stats, create_report\n"
   ]
  },
  {
   "cell_type": "code",
   "execution_count": 53,
   "metadata": {},
   "outputs": [],
   "source": [
    "from avaliacao.AvaliadorDriftBase import AvaliadorBatch\n",
    "from avaliacao.AvaliadorDriftBase import AvaliadorPassivo\n",
    "from experimento.ExperimentoDrift import Experimento"
   ]
  },
  {
   "cell_type": "markdown",
   "metadata": {},
   "source": [
    "## Frameworks"
   ]
  },
  {
   "cell_type": "code",
   "execution_count": 54,
   "metadata": {},
   "outputs": [],
   "source": [
    "# importando o framework\n",
    "from frame_oasis.OASIS import OASIS\n",
    "from frame_lor.LOR import LOR"
   ]
  },
  {
   "cell_type": "markdown",
   "metadata": {},
   "source": [
    "## Importação dos Detectores"
   ]
  },
  {
   "cell_type": "code",
   "execution_count": 55,
   "metadata": {},
   "outputs": [],
   "source": [
    "# Importando detectores de drift\n",
    "from detectores.ADWINDetector import ADWINDetector\n",
    "from detectores.DDMDetector import DDMDetector\n",
    "from detectores.EDDMDetector import EDDMDetector\n",
    "from detectores.FHDDMDetector import FHDDMDetector\n",
    "from detectores.HDDM_ADetector import HDDM_ADetector\n",
    "from detectores.PageHinkleyDetector import PageHinkleyDetector\n",
    "from detectores.HDDM_WDetector import HDDM_WDetector\n",
    "from detectores.KSWINDetector import KSWINDetector"
   ]
  },
  {
   "cell_type": "markdown",
   "metadata": {},
   "source": [
    "## Importação dos Regressores Off-line"
   ]
  },
  {
   "cell_type": "code",
   "execution_count": 56,
   "metadata": {},
   "outputs": [],
   "source": [
    "# Importando modelos offline\n",
    "from regressores.modelosOffline.LinearRegressionModelo import LinearRegressionModelo\n",
    "from regressores.modelosOffline.KneighborsRegressorModelo import KneighborsRegressorModelo\n",
    "from regressores.modelosOffline.LassoRegressionModelo import LassoRegressionModelo\n",
    "from regressores.modelosOffline.RidgeRegressionModelo import RidgeRegressionModelo\n",
    "from regressores.modelosOffline.SVRModelo import SVRModelo\n",
    "from regressores.modelosOffline.RandomForestModelo import RandomForestModelo\n",
    "from regressores.modelosOffline.MLPRegressorModelo import MLPRegressorModelo"
   ]
  },
  {
   "cell_type": "markdown",
   "metadata": {},
   "source": [
    "## Importação dos Regressores On-line"
   ]
  },
  {
   "cell_type": "code",
   "execution_count": 57,
   "metadata": {},
   "outputs": [],
   "source": [
    "# Importando modelos online\n",
    "from regressores.modelosOnline.BayesianLinearRegressionModelo import BayesianLinearRegressionModelo\n",
    "from regressores.modelosOnline.HoeffdingTreeRegressorModelo import HoeffdingTreeRegressorModelo\n",
    "from regressores.modelosOnline.KNNRegressorOnlineModelo import KNNRegressorOnlineModelo\n",
    "from regressores.modelosOnline.LinearRegressionOnlineModelo import LinearRegressionOnlineModelo\n",
    "from regressores.modelosOnline.OSELM import OSELMModelo"
   ]
  },
  {
   "cell_type": "markdown",
   "metadata": {},
   "source": [
    "# **2. Definindo os Dados e Parâmetros**"
   ]
  },
  {
   "cell_type": "markdown",
   "metadata": {},
   "source": [
    "## Dados"
   ]
  },
  {
   "cell_type": "code",
   "execution_count": 8,
   "metadata": {},
   "outputs": [],
   "source": [
    "# Lista de séries temporais\n",
    "series = [\n",
    "    #\"AAPL\",\n",
    "    #\"B3SA3.SA\",\n",
    "    #\"IXIC\",\n",
    "    #\"DJI\",\n",
    "    #\"GSPC\",\n",
    "    \"BVSP\",\n",
    "    #\"USDBRLX\"\n",
    "]"
   ]
  },
  {
   "cell_type": "markdown",
   "metadata": {},
   "source": [
    "## Parâmetros"
   ]
  },
  {
   "cell_type": "code",
   "execution_count": 9,
   "metadata": {},
   "outputs": [],
   "source": [
    "# Parâmetros do experimento\n",
    "tamanho_batch = 300\n",
    "lags = 10\n",
    "repeticoes = 30  # Número de execuções para cada modelo-série"
   ]
  },
  {
   "cell_type": "markdown",
   "metadata": {},
   "source": [
    "# **3. Definindo os Modelos e Avaliadores**"
   ]
  },
  {
   "cell_type": "markdown",
   "metadata": {},
   "source": [
    "\"\"\"{\n",
    "        \"nome\": \"LR + ADWIN\",\n",
    "        \"avaliador\": AvaliadorBatch(),\n",
    "        \"modelo\": LinearRegressionModelo,\n",
    "        \"detector\": ADWINDetector,\n",
    "        \"deterministico\": True\n",
    "    },\n",
    "    \n",
    "    {\n",
    "        \"nome\": \"LR + HDDM_A\",\n",
    "        \"avaliador\": AvaliadorBatch(),\n",
    "        \"modelo\": LinearRegressionModelo,\n",
    "        \"detector\": HDDM_ADetector,\n",
    "        \"deterministico\": True\n",
    "    },\n",
    "    \n",
    "    {\n",
    "        \"nome\": \"LinearRegressionOnlineModelo\",\n",
    "        \"avaliador\": AvaliadorPassivo(),\n",
    "        \"modelo\": LinearRegressionOnlineModelo,\n",
    "        \"detector\": None,  # Passivo, não usa detector\n",
    "        \"deterministico\": True\n",
    "    },\n",
    "    \n",
    "    {\n",
    "        \"nome\": \"HoeffdingTreeRegressorModelo\",\n",
    "        \"avaliador\": AvaliadorPassivo(),\n",
    "        \"modelo\": HoeffdingTreeRegressorModelo,\n",
    "        \"detector\": None,  # Passivo, não usa detector\n",
    "        \"deterministico\": True\n",
    "    },\n",
    "    \n",
    "    {\n",
    "        \"nome\": \"OSELMModelo\",\n",
    "        \"avaliador\": AvaliadorPassivo(),\n",
    "        \"modelo\": OSELMModelo,\n",
    "        \"detector\": None,  # Passivo, não usa detector\n",
    "        \"deterministico\": False\n",
    "    },\"\"\""
   ]
  },
  {
   "cell_type": "markdown",
   "metadata": {},
   "source": [
    "   \"\"\"{\n",
    "        \"nome\": \"LOR - unique - 3 - lags\",\n",
    "        \"avaliador\": LOR(LinearRegressionModelo, KSWINDetector, reset=\"unique\"),\n",
    "        \"modelo\": LinearRegressionModelo,\n",
    "        \"detector\": KSWINDetector,\n",
    "        \"deterministico\": False\n",
    "    },\n",
    "    \n",
    "    {\n",
    "        \"nome\": \"LOR - incremental - 3 - lags\",\n",
    "        \"avaliador\": LOR(LinearRegressionModelo, KSWINDetector, reset=\"incremental\"),\n",
    "        \"modelo\": LinearRegressionModelo,\n",
    "        \"detector\": KSWINDetector,\n",
    "        \"deterministico\": False\n",
    "    },\"\"\""
   ]
  },
  {
   "cell_type": "code",
   "execution_count": 10,
   "metadata": {},
   "outputs": [],
   "source": [
    "modelos = [\n",
    "    \n",
    " \n",
    "    \n",
    "    {\n",
    "        \"nome\": \"LR + KSWIN - 10 - lags\",\n",
    "        \"avaliador\": AvaliadorBatch(),\n",
    "        \"modelo\": LinearRegressionModelo,\n",
    "        \"detector\": KSWINDetector,\n",
    "        \"deterministico\": False\n",
    "    },    \n",
    "]"
   ]
  },
  {
   "cell_type": "markdown",
   "metadata": {},
   "source": [
    "# **4. Executando o Experimento**"
   ]
  },
  {
   "cell_type": "code",
   "execution_count": 11,
   "metadata": {},
   "outputs": [
    {
     "name": "stdout",
     "output_type": "stream",
     "text": [
      "Executando LR + KSWIN - 10 - lags na série: BVSP\n"
     ]
    }
   ],
   "source": [
    "# Criando e executando o experimento\n",
    "experimento = Experimento(\n",
    "    series=series,\n",
    "    modelos=modelos,\n",
    "    tamanho_batch=tamanho_batch,\n",
    "    lags=lags,\n",
    "    repeticoes=repeticoes\n",
    ")\n",
    "\n",
    "resultados = experimento.executar()"
   ]
  },
  {
   "cell_type": "code",
   "execution_count": null,
   "metadata": {},
   "outputs": [
    {
     "name": "stdout",
     "output_type": "stream",
     "text": [
      "\n",
      "Resultados salvos em: Experimento_gabriel_lags_10.csv\n"
     ]
    },
    {
     "data": {
      "text/plain": [
       "'Experimento_gabriel_lags_10.csv'"
      ]
     },
     "execution_count": 12,
     "metadata": {},
     "output_type": "execute_result"
    }
   ],
   "source": [
    "# salvando os resultados\n",
    "arquivo_salvamento = \"Experimento_liedson.csv\"\n",
    "FileManager.salvar_resultados(resultados, arquivo_salvamento)"
   ]
  },
  {
   "cell_type": "markdown",
   "metadata": {},
   "source": [
    "# **5. Análise Estatística dos Resultados**"
   ]
  },
  {
   "cell_type": "markdown",
   "metadata": {},
   "source": [
    "## Leitura dos Resultados"
   ]
  },
  {
   "cell_type": "code",
   "execution_count": 61,
   "metadata": {},
   "outputs": [],
   "source": [
    "arquivo_salvamento = \"resultados/Experimento_liedson.csv\""
   ]
  },
  {
   "cell_type": "code",
   "execution_count": 62,
   "metadata": {},
   "outputs": [],
   "source": [
    "# 1. Ler o arquivo CSV\n",
    "df = pd.read_csv(arquivo_salvamento)"
   ]
  },
  {
   "cell_type": "markdown",
   "metadata": {},
   "source": [
    "## Tabelas de Resultados"
   ]
  },
  {
   "cell_type": "code",
   "execution_count": 63,
   "metadata": {},
   "outputs": [],
   "source": [
    "# 3. Agrupar por modelo e calcular estatísticas\n",
    "summary = df.groupby(['serie', 'modelo']).agg(\n",
    "    mae_mean=('mae', 'mean'),\n",
    "    mae_std=('mae', 'std'),\n",
    "    qtd_deteccoes_mean=('qtd_deteccoes', 'mean'),\n",
    "    qtd_deteccoes_std=('qtd_deteccoes', 'std')\n",
    ").reset_index()"
   ]
  },
  {
   "cell_type": "markdown",
   "metadata": {},
   "source": [
    "### Média do MAE"
   ]
  },
  {
   "cell_type": "code",
   "execution_count": 64,
   "metadata": {},
   "outputs": [
    {
     "data": {
      "text/html": [
       "<div>\n",
       "<style scoped>\n",
       "    .dataframe tbody tr th:only-of-type {\n",
       "        vertical-align: middle;\n",
       "    }\n",
       "\n",
       "    .dataframe tbody tr th {\n",
       "        vertical-align: top;\n",
       "    }\n",
       "\n",
       "    .dataframe thead th {\n",
       "        text-align: right;\n",
       "    }\n",
       "</style>\n",
       "<table border=\"1\" class=\"dataframe\">\n",
       "  <thead>\n",
       "    <tr style=\"text-align: right;\">\n",
       "      <th>modelo</th>\n",
       "      <th>BayesianLinear</th>\n",
       "      <th>HoeffdingTree</th>\n",
       "      <th>KNNRegressorOnline</th>\n",
       "      <th>LR + KSWIN</th>\n",
       "      <th>OASIS</th>\n",
       "      <th>OSELMModelo</th>\n",
       "    </tr>\n",
       "    <tr>\n",
       "      <th>serie</th>\n",
       "      <th></th>\n",
       "      <th></th>\n",
       "      <th></th>\n",
       "      <th></th>\n",
       "      <th></th>\n",
       "      <th></th>\n",
       "    </tr>\n",
       "  </thead>\n",
       "  <tbody>\n",
       "    <tr>\n",
       "      <th>AAPL</th>\n",
       "      <td>0.007968</td>\n",
       "      <td>0.083247</td>\n",
       "      <td>0.011097</td>\n",
       "      <td>0.006925</td>\n",
       "      <td>0.007752</td>\n",
       "      <td>0.015353</td>\n",
       "    </tr>\n",
       "    <tr>\n",
       "      <th>B3SA3.SA</th>\n",
       "      <td>0.029469</td>\n",
       "      <td>0.038586</td>\n",
       "      <td>0.046862</td>\n",
       "      <td>0.035123</td>\n",
       "      <td>0.029412</td>\n",
       "      <td>0.044037</td>\n",
       "    </tr>\n",
       "    <tr>\n",
       "      <th>BVSP</th>\n",
       "      <td>0.017539</td>\n",
       "      <td>0.024016</td>\n",
       "      <td>0.024359</td>\n",
       "      <td>0.016388</td>\n",
       "      <td>0.017215</td>\n",
       "      <td>0.022046</td>\n",
       "    </tr>\n",
       "    <tr>\n",
       "      <th>DJI</th>\n",
       "      <td>0.013574</td>\n",
       "      <td>0.017122</td>\n",
       "      <td>0.018575</td>\n",
       "      <td>0.013529</td>\n",
       "      <td>0.013092</td>\n",
       "      <td>0.018635</td>\n",
       "    </tr>\n",
       "    <tr>\n",
       "      <th>GSPC</th>\n",
       "      <td>0.005660</td>\n",
       "      <td>0.120804</td>\n",
       "      <td>0.007647</td>\n",
       "      <td>0.005683</td>\n",
       "      <td>0.005494</td>\n",
       "      <td>0.011397</td>\n",
       "    </tr>\n",
       "    <tr>\n",
       "      <th>IXIC</th>\n",
       "      <td>0.008735</td>\n",
       "      <td>0.051417</td>\n",
       "      <td>0.011854</td>\n",
       "      <td>0.008235</td>\n",
       "      <td>0.008457</td>\n",
       "      <td>0.015228</td>\n",
       "    </tr>\n",
       "    <tr>\n",
       "      <th>USDBRLX</th>\n",
       "      <td>0.019844</td>\n",
       "      <td>0.026357</td>\n",
       "      <td>0.028478</td>\n",
       "      <td>0.022429</td>\n",
       "      <td>0.019689</td>\n",
       "      <td>0.025008</td>\n",
       "    </tr>\n",
       "  </tbody>\n",
       "</table>\n",
       "</div>"
      ],
      "text/plain": [
       "modelo    BayesianLinear  HoeffdingTree  KNNRegressorOnline  LR + KSWIN  \\\n",
       "serie                                                                     \n",
       "AAPL            0.007968       0.083247            0.011097    0.006925   \n",
       "B3SA3.SA        0.029469       0.038586            0.046862    0.035123   \n",
       "BVSP            0.017539       0.024016            0.024359    0.016388   \n",
       "DJI             0.013574       0.017122            0.018575    0.013529   \n",
       "GSPC            0.005660       0.120804            0.007647    0.005683   \n",
       "IXIC            0.008735       0.051417            0.011854    0.008235   \n",
       "USDBRLX         0.019844       0.026357            0.028478    0.022429   \n",
       "\n",
       "modelo       OASIS  OSELMModelo  \n",
       "serie                            \n",
       "AAPL      0.007752     0.015353  \n",
       "B3SA3.SA  0.029412     0.044037  \n",
       "BVSP      0.017215     0.022046  \n",
       "DJI       0.013092     0.018635  \n",
       "GSPC      0.005494     0.011397  \n",
       "IXIC      0.008457     0.015228  \n",
       "USDBRLX   0.019689     0.025008  "
      ]
     },
     "execution_count": 64,
     "metadata": {},
     "output_type": "execute_result"
    }
   ],
   "source": [
    "# Tabela para a média do MAE\n",
    "mae_mean_table = summary.pivot(index='serie', columns='modelo', values='mae_mean')\n",
    "mae_mean_table"
   ]
  },
  {
   "cell_type": "code",
   "execution_count": null,
   "metadata": {},
   "outputs": [],
   "source": []
  },
  {
   "cell_type": "markdown",
   "metadata": {},
   "source": [
    "### Desvio do MAE"
   ]
  },
  {
   "cell_type": "code",
   "execution_count": 65,
   "metadata": {},
   "outputs": [
    {
     "data": {
      "text/html": [
       "<div>\n",
       "<style scoped>\n",
       "    .dataframe tbody tr th:only-of-type {\n",
       "        vertical-align: middle;\n",
       "    }\n",
       "\n",
       "    .dataframe tbody tr th {\n",
       "        vertical-align: top;\n",
       "    }\n",
       "\n",
       "    .dataframe thead th {\n",
       "        text-align: right;\n",
       "    }\n",
       "</style>\n",
       "<table border=\"1\" class=\"dataframe\">\n",
       "  <thead>\n",
       "    <tr style=\"text-align: right;\">\n",
       "      <th>modelo</th>\n",
       "      <th>BayesianLinear</th>\n",
       "      <th>HoeffdingTree</th>\n",
       "      <th>KNNRegressorOnline</th>\n",
       "      <th>LR + KSWIN</th>\n",
       "      <th>OASIS</th>\n",
       "      <th>OSELMModelo</th>\n",
       "    </tr>\n",
       "    <tr>\n",
       "      <th>serie</th>\n",
       "      <th></th>\n",
       "      <th></th>\n",
       "      <th></th>\n",
       "      <th></th>\n",
       "      <th></th>\n",
       "      <th></th>\n",
       "    </tr>\n",
       "  </thead>\n",
       "  <tbody>\n",
       "    <tr>\n",
       "      <th>AAPL</th>\n",
       "      <td>0.0</td>\n",
       "      <td>0.0</td>\n",
       "      <td>0.0</td>\n",
       "      <td>0.000193</td>\n",
       "      <td>0.000015</td>\n",
       "      <td>0.004629</td>\n",
       "    </tr>\n",
       "    <tr>\n",
       "      <th>B3SA3.SA</th>\n",
       "      <td>0.0</td>\n",
       "      <td>0.0</td>\n",
       "      <td>0.0</td>\n",
       "      <td>0.004034</td>\n",
       "      <td>0.000081</td>\n",
       "      <td>0.005444</td>\n",
       "    </tr>\n",
       "    <tr>\n",
       "      <th>BVSP</th>\n",
       "      <td>0.0</td>\n",
       "      <td>0.0</td>\n",
       "      <td>0.0</td>\n",
       "      <td>0.000383</td>\n",
       "      <td>0.000057</td>\n",
       "      <td>0.002917</td>\n",
       "    </tr>\n",
       "    <tr>\n",
       "      <th>DJI</th>\n",
       "      <td>0.0</td>\n",
       "      <td>0.0</td>\n",
       "      <td>0.0</td>\n",
       "      <td>0.000398</td>\n",
       "      <td>0.000028</td>\n",
       "      <td>0.003416</td>\n",
       "    </tr>\n",
       "    <tr>\n",
       "      <th>GSPC</th>\n",
       "      <td>0.0</td>\n",
       "      <td>0.0</td>\n",
       "      <td>0.0</td>\n",
       "      <td>0.000327</td>\n",
       "      <td>0.000009</td>\n",
       "      <td>0.002241</td>\n",
       "    </tr>\n",
       "    <tr>\n",
       "      <th>IXIC</th>\n",
       "      <td>0.0</td>\n",
       "      <td>0.0</td>\n",
       "      <td>0.0</td>\n",
       "      <td>0.000320</td>\n",
       "      <td>0.000011</td>\n",
       "      <td>0.003367</td>\n",
       "    </tr>\n",
       "    <tr>\n",
       "      <th>USDBRLX</th>\n",
       "      <td>0.0</td>\n",
       "      <td>0.0</td>\n",
       "      <td>0.0</td>\n",
       "      <td>0.001418</td>\n",
       "      <td>0.000020</td>\n",
       "      <td>0.002132</td>\n",
       "    </tr>\n",
       "  </tbody>\n",
       "</table>\n",
       "</div>"
      ],
      "text/plain": [
       "modelo    BayesianLinear  HoeffdingTree  KNNRegressorOnline  LR + KSWIN  \\\n",
       "serie                                                                     \n",
       "AAPL                 0.0            0.0                 0.0    0.000193   \n",
       "B3SA3.SA             0.0            0.0                 0.0    0.004034   \n",
       "BVSP                 0.0            0.0                 0.0    0.000383   \n",
       "DJI                  0.0            0.0                 0.0    0.000398   \n",
       "GSPC                 0.0            0.0                 0.0    0.000327   \n",
       "IXIC                 0.0            0.0                 0.0    0.000320   \n",
       "USDBRLX              0.0            0.0                 0.0    0.001418   \n",
       "\n",
       "modelo       OASIS  OSELMModelo  \n",
       "serie                            \n",
       "AAPL      0.000015     0.004629  \n",
       "B3SA3.SA  0.000081     0.005444  \n",
       "BVSP      0.000057     0.002917  \n",
       "DJI       0.000028     0.003416  \n",
       "GSPC      0.000009     0.002241  \n",
       "IXIC      0.000011     0.003367  \n",
       "USDBRLX   0.000020     0.002132  "
      ]
     },
     "execution_count": 65,
     "metadata": {},
     "output_type": "execute_result"
    }
   ],
   "source": [
    "# Tabela para o desvio padrão do MAE\n",
    "mae_std_table = summary.pivot(index='serie', columns='modelo', values='mae_std')\n",
    "mae_std_table"
   ]
  },
  {
   "cell_type": "markdown",
   "metadata": {},
   "source": [
    "### Média Detecções"
   ]
  },
  {
   "cell_type": "code",
   "execution_count": 66,
   "metadata": {},
   "outputs": [
    {
     "data": {
      "text/html": [
       "<div>\n",
       "<style scoped>\n",
       "    .dataframe tbody tr th:only-of-type {\n",
       "        vertical-align: middle;\n",
       "    }\n",
       "\n",
       "    .dataframe tbody tr th {\n",
       "        vertical-align: top;\n",
       "    }\n",
       "\n",
       "    .dataframe thead th {\n",
       "        text-align: right;\n",
       "    }\n",
       "</style>\n",
       "<table border=\"1\" class=\"dataframe\">\n",
       "  <thead>\n",
       "    <tr style=\"text-align: right;\">\n",
       "      <th>modelo</th>\n",
       "      <th>BayesianLinear</th>\n",
       "      <th>HoeffdingTree</th>\n",
       "      <th>KNNRegressorOnline</th>\n",
       "      <th>LR + KSWIN</th>\n",
       "      <th>OASIS</th>\n",
       "      <th>OSELMModelo</th>\n",
       "    </tr>\n",
       "    <tr>\n",
       "      <th>serie</th>\n",
       "      <th></th>\n",
       "      <th></th>\n",
       "      <th></th>\n",
       "      <th></th>\n",
       "      <th></th>\n",
       "      <th></th>\n",
       "    </tr>\n",
       "  </thead>\n",
       "  <tbody>\n",
       "    <tr>\n",
       "      <th>AAPL</th>\n",
       "      <td>NaN</td>\n",
       "      <td>NaN</td>\n",
       "      <td>NaN</td>\n",
       "      <td>19.933333</td>\n",
       "      <td>24.033333</td>\n",
       "      <td>NaN</td>\n",
       "    </tr>\n",
       "    <tr>\n",
       "      <th>B3SA3.SA</th>\n",
       "      <td>NaN</td>\n",
       "      <td>NaN</td>\n",
       "      <td>NaN</td>\n",
       "      <td>6.400000</td>\n",
       "      <td>6.866667</td>\n",
       "      <td>NaN</td>\n",
       "    </tr>\n",
       "    <tr>\n",
       "      <th>BVSP</th>\n",
       "      <td>NaN</td>\n",
       "      <td>NaN</td>\n",
       "      <td>NaN</td>\n",
       "      <td>12.633333</td>\n",
       "      <td>13.066667</td>\n",
       "      <td>NaN</td>\n",
       "    </tr>\n",
       "    <tr>\n",
       "      <th>DJI</th>\n",
       "      <td>NaN</td>\n",
       "      <td>NaN</td>\n",
       "      <td>NaN</td>\n",
       "      <td>13.766667</td>\n",
       "      <td>16.166667</td>\n",
       "      <td>NaN</td>\n",
       "    </tr>\n",
       "    <tr>\n",
       "      <th>GSPC</th>\n",
       "      <td>NaN</td>\n",
       "      <td>NaN</td>\n",
       "      <td>NaN</td>\n",
       "      <td>37.600000</td>\n",
       "      <td>50.833333</td>\n",
       "      <td>NaN</td>\n",
       "    </tr>\n",
       "    <tr>\n",
       "      <th>IXIC</th>\n",
       "      <td>NaN</td>\n",
       "      <td>NaN</td>\n",
       "      <td>NaN</td>\n",
       "      <td>21.300000</td>\n",
       "      <td>28.033333</td>\n",
       "      <td>NaN</td>\n",
       "    </tr>\n",
       "    <tr>\n",
       "      <th>USDBRLX</th>\n",
       "      <td>NaN</td>\n",
       "      <td>NaN</td>\n",
       "      <td>NaN</td>\n",
       "      <td>8.800000</td>\n",
       "      <td>8.833333</td>\n",
       "      <td>NaN</td>\n",
       "    </tr>\n",
       "  </tbody>\n",
       "</table>\n",
       "</div>"
      ],
      "text/plain": [
       "modelo    BayesianLinear  HoeffdingTree  KNNRegressorOnline  LR + KSWIN  \\\n",
       "serie                                                                     \n",
       "AAPL                 NaN            NaN                 NaN   19.933333   \n",
       "B3SA3.SA             NaN            NaN                 NaN    6.400000   \n",
       "BVSP                 NaN            NaN                 NaN   12.633333   \n",
       "DJI                  NaN            NaN                 NaN   13.766667   \n",
       "GSPC                 NaN            NaN                 NaN   37.600000   \n",
       "IXIC                 NaN            NaN                 NaN   21.300000   \n",
       "USDBRLX              NaN            NaN                 NaN    8.800000   \n",
       "\n",
       "modelo        OASIS  OSELMModelo  \n",
       "serie                             \n",
       "AAPL      24.033333          NaN  \n",
       "B3SA3.SA   6.866667          NaN  \n",
       "BVSP      13.066667          NaN  \n",
       "DJI       16.166667          NaN  \n",
       "GSPC      50.833333          NaN  \n",
       "IXIC      28.033333          NaN  \n",
       "USDBRLX    8.833333          NaN  "
      ]
     },
     "execution_count": 66,
     "metadata": {},
     "output_type": "execute_result"
    }
   ],
   "source": [
    "# Tabela para a média das detecções\n",
    "deteccoes_mean_table = summary.pivot(index='serie', columns='modelo', values='qtd_deteccoes_mean')\n",
    "deteccoes_mean_table"
   ]
  },
  {
   "cell_type": "markdown",
   "metadata": {},
   "source": [
    "## Teste Estatístico"
   ]
  },
  {
   "cell_type": "code",
   "execution_count": 67,
   "metadata": {},
   "outputs": [
    {
     "data": {
      "text/html": [
       "<div>\n",
       "<style scoped>\n",
       "    .dataframe tbody tr th:only-of-type {\n",
       "        vertical-align: middle;\n",
       "    }\n",
       "\n",
       "    .dataframe tbody tr th {\n",
       "        vertical-align: top;\n",
       "    }\n",
       "\n",
       "    .dataframe thead th {\n",
       "        text-align: right;\n",
       "    }\n",
       "</style>\n",
       "<table border=\"1\" class=\"dataframe\">\n",
       "  <thead>\n",
       "    <tr style=\"text-align: right;\">\n",
       "      <th></th>\n",
       "      <th>modelo</th>\n",
       "      <th>BayesianLinear</th>\n",
       "      <th>HoeffdingTree</th>\n",
       "      <th>KNNRegressorOnline</th>\n",
       "      <th>LR + KSWIN</th>\n",
       "      <th>OASIS</th>\n",
       "      <th>OSELMModelo</th>\n",
       "    </tr>\n",
       "    <tr>\n",
       "      <th>serie</th>\n",
       "      <th>repeticao</th>\n",
       "      <th></th>\n",
       "      <th></th>\n",
       "      <th></th>\n",
       "      <th></th>\n",
       "      <th></th>\n",
       "      <th></th>\n",
       "    </tr>\n",
       "  </thead>\n",
       "  <tbody>\n",
       "    <tr>\n",
       "      <th rowspan=\"5\" valign=\"top\">AAPL</th>\n",
       "      <th>1</th>\n",
       "      <td>0.007968</td>\n",
       "      <td>0.083247</td>\n",
       "      <td>0.011097</td>\n",
       "      <td>0.007013</td>\n",
       "      <td>0.007773</td>\n",
       "      <td>0.011293</td>\n",
       "    </tr>\n",
       "    <tr>\n",
       "      <th>2</th>\n",
       "      <td>0.007968</td>\n",
       "      <td>0.083247</td>\n",
       "      <td>0.011097</td>\n",
       "      <td>0.007096</td>\n",
       "      <td>0.007763</td>\n",
       "      <td>0.015890</td>\n",
       "    </tr>\n",
       "    <tr>\n",
       "      <th>3</th>\n",
       "      <td>0.007968</td>\n",
       "      <td>0.083247</td>\n",
       "      <td>0.011097</td>\n",
       "      <td>0.006857</td>\n",
       "      <td>0.007749</td>\n",
       "      <td>0.012196</td>\n",
       "    </tr>\n",
       "    <tr>\n",
       "      <th>4</th>\n",
       "      <td>0.007968</td>\n",
       "      <td>0.083247</td>\n",
       "      <td>0.011097</td>\n",
       "      <td>0.007027</td>\n",
       "      <td>0.007748</td>\n",
       "      <td>0.024605</td>\n",
       "    </tr>\n",
       "    <tr>\n",
       "      <th>5</th>\n",
       "      <td>0.007968</td>\n",
       "      <td>0.083247</td>\n",
       "      <td>0.011097</td>\n",
       "      <td>0.006773</td>\n",
       "      <td>0.007753</td>\n",
       "      <td>0.012972</td>\n",
       "    </tr>\n",
       "    <tr>\n",
       "      <th>...</th>\n",
       "      <th>...</th>\n",
       "      <td>...</td>\n",
       "      <td>...</td>\n",
       "      <td>...</td>\n",
       "      <td>...</td>\n",
       "      <td>...</td>\n",
       "      <td>...</td>\n",
       "    </tr>\n",
       "    <tr>\n",
       "      <th rowspan=\"5\" valign=\"top\">USDBRLX</th>\n",
       "      <th>26</th>\n",
       "      <td>0.019844</td>\n",
       "      <td>0.026357</td>\n",
       "      <td>0.028478</td>\n",
       "      <td>0.023066</td>\n",
       "      <td>0.019707</td>\n",
       "      <td>0.024769</td>\n",
       "    </tr>\n",
       "    <tr>\n",
       "      <th>27</th>\n",
       "      <td>0.019844</td>\n",
       "      <td>0.026357</td>\n",
       "      <td>0.028478</td>\n",
       "      <td>0.019506</td>\n",
       "      <td>0.019681</td>\n",
       "      <td>0.025693</td>\n",
       "    </tr>\n",
       "    <tr>\n",
       "      <th>28</th>\n",
       "      <td>0.019844</td>\n",
       "      <td>0.026357</td>\n",
       "      <td>0.028478</td>\n",
       "      <td>0.022904</td>\n",
       "      <td>0.019674</td>\n",
       "      <td>0.024967</td>\n",
       "    </tr>\n",
       "    <tr>\n",
       "      <th>29</th>\n",
       "      <td>0.019844</td>\n",
       "      <td>0.026357</td>\n",
       "      <td>0.028478</td>\n",
       "      <td>0.020645</td>\n",
       "      <td>0.019682</td>\n",
       "      <td>0.029709</td>\n",
       "    </tr>\n",
       "    <tr>\n",
       "      <th>30</th>\n",
       "      <td>0.019844</td>\n",
       "      <td>0.026357</td>\n",
       "      <td>0.028478</td>\n",
       "      <td>0.024817</td>\n",
       "      <td>0.019674</td>\n",
       "      <td>0.025320</td>\n",
       "    </tr>\n",
       "  </tbody>\n",
       "</table>\n",
       "<p>210 rows × 6 columns</p>\n",
       "</div>"
      ],
      "text/plain": [
       "modelo             BayesianLinear  HoeffdingTree  KNNRegressorOnline  \\\n",
       "serie   repeticao                                                      \n",
       "AAPL    1                0.007968       0.083247            0.011097   \n",
       "        2                0.007968       0.083247            0.011097   \n",
       "        3                0.007968       0.083247            0.011097   \n",
       "        4                0.007968       0.083247            0.011097   \n",
       "        5                0.007968       0.083247            0.011097   \n",
       "...                           ...            ...                 ...   \n",
       "USDBRLX 26               0.019844       0.026357            0.028478   \n",
       "        27               0.019844       0.026357            0.028478   \n",
       "        28               0.019844       0.026357            0.028478   \n",
       "        29               0.019844       0.026357            0.028478   \n",
       "        30               0.019844       0.026357            0.028478   \n",
       "\n",
       "modelo             LR + KSWIN     OASIS  OSELMModelo  \n",
       "serie   repeticao                                     \n",
       "AAPL    1            0.007013  0.007773     0.011293  \n",
       "        2            0.007096  0.007763     0.015890  \n",
       "        3            0.006857  0.007749     0.012196  \n",
       "        4            0.007027  0.007748     0.024605  \n",
       "        5            0.006773  0.007753     0.012972  \n",
       "...                       ...       ...          ...  \n",
       "USDBRLX 26           0.023066  0.019707     0.024769  \n",
       "        27           0.019506  0.019681     0.025693  \n",
       "        28           0.022904  0.019674     0.024967  \n",
       "        29           0.020645  0.019682     0.029709  \n",
       "        30           0.024817  0.019674     0.025320  \n",
       "\n",
       "[210 rows x 6 columns]"
      ]
     },
     "execution_count": 67,
     "metadata": {},
     "output_type": "execute_result"
    }
   ],
   "source": [
    "# 4. Preparar dados para autorank (uma linha por repetição, colunas por modelo)\n",
    "df_mae = df.pivot_table(index=[\"serie\", \"repeticao\"], columns=\"modelo\", values=\"mae\")\n",
    "# Remover qualquer valor NaN para análise (caso haja)\n",
    "df_mae = df_mae.dropna()\n",
    "# Tabela de desempenho\n",
    "df_mae"
   ]
  },
  {
   "cell_type": "code",
   "execution_count": 68,
   "metadata": {},
   "outputs": [
    {
     "name": "stdout",
     "output_type": "stream",
     "text": [
      "The statistical analysis was conducted for 6 populations with 7 paired samples.\n",
      "The family-wise significance level of the tests is alpha=0.050.\n",
      "We failed to reject the null hypothesis that the population is normal for all populations (minimal observed p-value=0.081). Therefore, we assume that all populations are normal.\n",
      "We applied Bartlett's test for homogeneity and reject the null hypothesis (p=0.000) that thedata is homoscedastic. Thus, we assume that our data is heteroscedastic.\n",
      "Because we have more than two populations and the populations are normal but heteroscedastic, we use the non-parametric Friedman test as omnibus test to determine if there are any significant differences between the mean values of the populations. We use the post-hoc Nemenyi test to infer which differences are significant. We report the mean value (M), the standard deviation (SD) and the mean rank (MR) among all populations over the samples. Differences between populations are significant, if the difference of the mean rank is greater than the critical distance CD=2.850 of the Nemenyi test.\n",
      "We reject the null hypothesis (p=0.000) of the Friedman test that there is no difference in the central tendency of the populations HoeffdingTree (M=-0.052+-0.055, SD=0.038, MR=5.143), KNNRegressorOnline (M=-0.021+-0.020, SD=0.014, MR=5.000), OSELMModelo (M=-0.022+-0.016, SD=0.011, MR=4.857), BayesianLinear (M=-0.015+-0.012, SD=0.008, MR=2.571), LR + KSWIN (M=-0.015+-0.015, SD=0.010, MR=2.000), and OASIS (M=-0.014+-0.012, SD=0.008, MR=1.429). Therefore, we assume that there is a statistically significant difference between the median values of the populations.\n",
      "Based on the post-hoc Nemenyi test, we assume that there are no significant differences within the following groups: HoeffdingTree, KNNRegressorOnline, OSELMModelo, and BayesianLinear; BayesianLinear, LR + KSWIN, and OASIS. All other differences are significant.\n"
     ]
    }
   ],
   "source": [
    "# computing the most appropriate statistical test\n",
    "results = autorank(-mae_mean_table)\n",
    "# printing the report\n",
    "create_report(results)"
   ]
  },
  {
   "cell_type": "code",
   "execution_count": 69,
   "metadata": {},
   "outputs": [
    {
     "data": {
      "text/plain": [
       "<Axes: >"
      ]
     },
     "execution_count": 69,
     "metadata": {},
     "output_type": "execute_result"
    },
    {
     "data": {
      "image/png": "[encoded data removed]",
      "text/plain": [
       "<Figure size 600x185 with 1 Axes>"
      ]
     },
     "metadata": {},
     "output_type": "display_data"
    }
   ],
   "source": [
    "# plotting the results\n",
    "plot_stats(results, allow_insignificant=True)"
   ]
  },
  {
   "cell_type": "markdown",
   "metadata": {},
   "source": [
    "# **6. Plots para o Artigo**"
   ]
  },
  {
   "cell_type": "code",
   "execution_count": 25,
   "metadata": {},
   "outputs": [],
   "source": [
    "# Ler o CSV\n",
    "df = pd.read_csv('resultados/Experimento_liedson_pool.csv')\n",
    "\n",
    "# Filtrar apenas a série desejada, se necessário (ex: BVSP)\n",
    "df = df[df['serie'] == 'BVSP']\n",
    "\n",
    "# Extrair o número de modelos e o tipo de métrica da coluna 'modelo'\n",
    "df['n_modelos'] = df['modelo'].str.extract(r'(\\d+)', expand=False).astype(int)\n",
    "df['metrica'] = df['modelo'].apply(lambda x: 'Tempo' if 'time' in x else 'Performance')"
   ]
  },
  {
   "cell_type": "code",
   "execution_count": 35,
   "metadata": {},
   "outputs": [
    {
     "data": {
      "image/png": "[encoded data removed]",
      "text/plain": [
       "<Figure size 1000x300 with 1 Axes>"
      ]
     },
     "metadata": {},
     "output_type": "display_data"
    }
   ],
   "source": [
    "# Criar boxplot\n",
    "plt.figure(figsize=(10, 3))\n",
    "sns.boxplot(data=df, x='n_modelos', y='mae', hue='metrica')\n",
    "\n",
    "# Personalizações\n",
    "#plt.title('Boxplot de Tempo e Performance por Nº de Modelos – Série BVSP')\n",
    "plt.xlabel('Número de Modelos')\n",
    "plt.ylabel('MAE')\n",
    "plt.grid(True, linestyle='--', alpha=0.4)\n",
    "plt.legend(title='Métrica')\n",
    "plt.tight_layout()\n",
    "plt.show()"
   ]
  }
 ],
 "metadata": {
  "kernelspec": {
   "display_name": "Python 3",
   "language": "python",
   "name": "python3"
  },
  "language_info": {
   "codemirror_mode": {
    "name": "ipython",
    "version": 3
   },
   "file_extension": ".py",
   "mimetype": "text/x-python",
   "name": "python",
   "nbconvert_exporter": "python",
   "pygments_lexer": "ipython3",
   "version": "3.12.5"
  }
 },
 "nbformat": 4,
 "nbformat_minor": 2
}
