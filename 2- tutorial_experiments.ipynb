{
 "cells": [
  {
   "cell_type": "markdown",
   "metadata": {},
   "source": [
    "# **1. Importações**"
   ]
  },
  {
   "cell_type": "markdown",
   "metadata": {},
   "source": [
    "## Importação dos Avaliadores"
   ]
  },
  {
   "cell_type": "code",
   "execution_count": 1,
   "metadata": {},
   "outputs": [],
   "source": [
    "#%pip install autorank"
   ]
  },
  {
   "cell_type": "code",
   "execution_count": 2,
   "metadata": {},
   "outputs": [],
   "source": [
    "from utils.FileManager import FileManager\n",
    "import pandas as pd\n",
    "import numpy as np\n",
    "\n",
    "import warnings\n",
    "warnings.filterwarnings(\"ignore\")\n",
    "\n",
    "from autorank import autorank, plot_stats, create_report\n"
   ]
  },
  {
   "cell_type": "code",
   "execution_count": 3,
   "metadata": {},
   "outputs": [],
   "source": [
    "from avaliacao.AvaliadorDriftBase import AvaliadorBatch\n",
    "from avaliacao.AvaliadorDriftBase import AvaliadorPassivo\n",
    "from experimento.ExperimentoDrift import Experimento"
   ]
  },
  {
   "cell_type": "markdown",
   "metadata": {},
   "source": [
    "## Frameworks"
   ]
  },
  {
   "cell_type": "code",
   "execution_count": 4,
   "metadata": {},
   "outputs": [],
   "source": [
    "# importando o framework\n",
    "from frame_oasis.OASIS import OASIS\n",
    "from frame_lor.LOR import LOR"
   ]
  },
  {
   "cell_type": "markdown",
   "metadata": {},
   "source": [
    "## Importação dos Detectores"
   ]
  },
  {
   "cell_type": "code",
   "execution_count": 5,
   "metadata": {},
   "outputs": [],
   "source": [
    "# Importando detectores de drift\n",
    "from detectores.ADWINDetector import ADWINDetector\n",
    "from detectores.DDMDetector import DDMDetector\n",
    "from detectores.EDDMDetector import EDDMDetector\n",
    "from detectores.FHDDMDetector import FHDDMDetector\n",
    "from detectores.HDDM_ADetector import HDDM_ADetector\n",
    "from detectores.PageHinkleyDetector import PageHinkleyDetector\n",
    "from detectores.HDDM_WDetector import HDDM_WDetector\n",
    "from detectores.KSWINDetector import KSWINDetector"
   ]
  },
  {
   "cell_type": "markdown",
   "metadata": {},
   "source": [
    "## Importação dos Regressores Off-line"
   ]
  },
  {
   "cell_type": "code",
   "execution_count": 6,
   "metadata": {},
   "outputs": [],
   "source": [
    "# Importando modelos offline\n",
    "from regressores.modelosOffline.LinearRegressionModelo import LinearRegressionModelo\n",
    "from regressores.modelosOffline.KneighborsRegressorModelo import KneighborsRegressorModelo\n",
    "from regressores.modelosOffline.LassoRegressionModelo import LassoRegressionModelo\n",
    "from regressores.modelosOffline.RidgeRegressionModelo import RidgeRegressionModelo\n",
    "from regressores.modelosOffline.SVRModelo import SVRModelo\n",
    "from regressores.modelosOffline.RandomForestModelo import RandomForestModelo\n",
    "from regressores.modelosOffline.MLPRegressorModelo import MLPRegressorModelo"
   ]
  },
  {
   "cell_type": "markdown",
   "metadata": {},
   "source": [
    "## Importação dos Regressores On-line"
   ]
  },
  {
   "cell_type": "code",
   "execution_count": 7,
   "metadata": {},
   "outputs": [],
   "source": [
    "# Importando modelos online\n",
    "from regressores.modelosOnline.BayesianLinearRegressionModelo import BayesianLinearRegressionModelo\n",
    "from regressores.modelosOnline.HoeffdingTreeRegressorModelo import HoeffdingTreeRegressorModelo\n",
    "from regressores.modelosOnline.KNNRegressorOnlineModelo import KNNRegressorOnlineModelo\n",
    "from regressores.modelosOnline.LinearRegressionOnlineModelo import LinearRegressionOnlineModelo\n",
    "from regressores.modelosOnline.OSELM import OSELMModelo"
   ]
  },
  {
   "cell_type": "markdown",
   "metadata": {},
   "source": [
    "# **2. Definindo os Dados e Parâmetros**"
   ]
  },
  {
   "cell_type": "markdown",
   "metadata": {},
   "source": [
    "## Dados"
   ]
  },
  {
   "cell_type": "code",
   "execution_count": 8,
   "metadata": {},
   "outputs": [],
   "source": [
    "# Lista de séries temporais\n",
    "series = [\n",
    "    #\"AAPL\",\n",
    "    #\"B3SA3.SA\",\n",
    "    #\"IXIC\",\n",
    "    #\"DJI\",\n",
    "    #\"GSPC\",\n",
    "    \"BVSP\",\n",
    "    #\"USDBRLX\"\n",
    "]"
   ]
  },
  {
   "cell_type": "markdown",
   "metadata": {},
   "source": [
    "## Parâmetros"
   ]
  },
  {
   "cell_type": "code",
   "execution_count": 9,
   "metadata": {},
   "outputs": [],
   "source": [
    "# Parâmetros do experimento\n",
    "tamanho_batch = 300\n",
    "lags = 10\n",
    "repeticoes = 30  # Número de execuções para cada modelo-série"
   ]
  },
  {
   "cell_type": "markdown",
   "metadata": {},
   "source": [
    "# **3. Definindo os Modelos e Avaliadores**"
   ]
  },
  {
   "cell_type": "markdown",
   "metadata": {},
   "source": [
    "\"\"\"{\n",
    "        \"nome\": \"LR + ADWIN\",\n",
    "        \"avaliador\": AvaliadorBatch(),\n",
    "        \"modelo\": LinearRegressionModelo,\n",
    "        \"detector\": ADWINDetector,\n",
    "        \"deterministico\": True\n",
    "    },\n",
    "    \n",
    "    {\n",
    "        \"nome\": \"LR + HDDM_A\",\n",
    "        \"avaliador\": AvaliadorBatch(),\n",
    "        \"modelo\": LinearRegressionModelo,\n",
    "        \"detector\": HDDM_ADetector,\n",
    "        \"deterministico\": True\n",
    "    },\n",
    "    \n",
    "    {\n",
    "        \"nome\": \"LinearRegressionOnlineModelo\",\n",
    "        \"avaliador\": AvaliadorPassivo(),\n",
    "        \"modelo\": LinearRegressionOnlineModelo,\n",
    "        \"detector\": None,  # Passivo, não usa detector\n",
    "        \"deterministico\": True\n",
    "    },\n",
    "    \n",
    "    {\n",
    "        \"nome\": \"HoeffdingTreeRegressorModelo\",\n",
    "        \"avaliador\": AvaliadorPassivo(),\n",
    "        \"modelo\": HoeffdingTreeRegressorModelo,\n",
    "        \"detector\": None,  # Passivo, não usa detector\n",
    "        \"deterministico\": True\n",
    "    },\n",
    "    \n",
    "    {\n",
    "        \"nome\": \"OSELMModelo\",\n",
    "        \"avaliador\": AvaliadorPassivo(),\n",
    "        \"modelo\": OSELMModelo,\n",
    "        \"detector\": None,  # Passivo, não usa detector\n",
    "        \"deterministico\": False\n",
    "    },\"\"\""
   ]
  },
  {
   "cell_type": "code",
   "execution_count": 10,
   "metadata": {},
   "outputs": [],
   "source": [
    "modelos = [\n",
    "    \n",
    "    {\n",
    "        \"nome\": \"OASIS - 5 - time\",\n",
    "        \"avaliador\": OASIS(BayesianLinearRegressionModelo, KSWINDetector, 5, tamanho_batch, pool_exclusion=\"time\"),\n",
    "        \"modelo\": BayesianLinearRegressionModelo,\n",
    "        \"detector\": KSWINDetector,\n",
    "        \"deterministico\": False\n",
    "    },\n",
    "    \n",
    "    {\n",
    "        \"nome\": \"OASIS - 5 - performance\",\n",
    "        \"avaliador\": OASIS(BayesianLinearRegressionModelo, KSWINDetector, 5, tamanho_batch, pool_exclusion=\"performance\"),\n",
    "        \"modelo\": BayesianLinearRegressionModelo,\n",
    "        \"detector\": KSWINDetector,\n",
    "        \"deterministico\": False\n",
    "    },\n",
    "    \n",
    "    {\n",
    "        \"nome\": \"OASIS - 10 - time\",\n",
    "        \"avaliador\": OASIS(BayesianLinearRegressionModelo, KSWINDetector, 10, tamanho_batch, pool_exclusion=\"time\"),\n",
    "        \"modelo\": BayesianLinearRegressionModelo,\n",
    "        \"detector\": KSWINDetector,\n",
    "        \"deterministico\": False\n",
    "    },\n",
    "    \n",
    "    {\n",
    "        \"nome\": \"OASIS - 10 - performance\",\n",
    "        \"avaliador\": OASIS(BayesianLinearRegressionModelo, KSWINDetector, 10, tamanho_batch, pool_exclusion=\"performance\"),\n",
    "        \"modelo\": BayesianLinearRegressionModelo,\n",
    "        \"detector\": KSWINDetector,\n",
    "        \"deterministico\": False\n",
    "    },\n",
    "    \n",
    "    {\n",
    "        \"nome\": \"OASIS - 20 - time\",\n",
    "        \"avaliador\": OASIS(BayesianLinearRegressionModelo, KSWINDetector, 20, tamanho_batch, pool_exclusion=\"time\"),\n",
    "        \"modelo\": BayesianLinearRegressionModelo,\n",
    "        \"detector\": KSWINDetector,\n",
    "        \"deterministico\": False\n",
    "    },\n",
    "    \n",
    "    {\n",
    "        \"nome\": \"OASIS - 20 - performance\",\n",
    "        \"avaliador\": OASIS(BayesianLinearRegressionModelo, KSWINDetector, 20, tamanho_batch, pool_exclusion=\"performance\"),\n",
    "        \"modelo\": BayesianLinearRegressionModelo,\n",
    "        \"detector\": KSWINDetector,\n",
    "        \"deterministico\": False\n",
    "    },\n",
    "\n",
    "    \n",
    "    \n",
    "    \n",
    "]"
   ]
  },
  {
   "cell_type": "markdown",
   "metadata": {},
   "source": [
    "# **4. Executando o Experimento**"
   ]
  },
  {
   "cell_type": "code",
   "execution_count": null,
   "metadata": {},
   "outputs": [
    {
     "name": "stdout",
     "output_type": "stream",
     "text": [
      "Executando OASIS - 5 - time na série: BVSP\n"
     ]
    }
   ],
   "source": [
    "# Criando e executando o experimento\n",
    "experimento = Experimento(\n",
    "    series=series,\n",
    "    modelos=modelos,\n",
    "    tamanho_batch=tamanho_batch,\n",
    "    lags=lags,\n",
    "    repeticoes=repeticoes\n",
    ")\n",
    "\n",
    "resultados = experimento.executar()"
   ]
  },
  {
   "cell_type": "code",
   "execution_count": null,
   "metadata": {},
   "outputs": [
    {
     "ename": "NameError",
     "evalue": "name 'resultados' is not defined",
     "output_type": "error",
     "traceback": [
      "\u001b[1;31m---------------------------------------------------------------------------\u001b[0m",
      "\u001b[1;31mNameError\u001b[0m                                 Traceback (most recent call last)",
      "Cell \u001b[1;32mIn[22], line 3\u001b[0m\n\u001b[0;32m      1\u001b[0m \u001b[38;5;66;03m# salvando os resultados\u001b[39;00m\n\u001b[0;32m      2\u001b[0m arquivo_salvamento \u001b[38;5;241m=\u001b[39m \u001b[38;5;124m\"\u001b[39m\u001b[38;5;124mExperimento_gabriel.csv\u001b[39m\u001b[38;5;124m\"\u001b[39m\n\u001b[1;32m----> 3\u001b[0m FileManager\u001b[38;5;241m.\u001b[39msalvar_resultados(\u001b[43mresultados\u001b[49m, arquivo_salvamento)\n",
      "\u001b[1;31mNameError\u001b[0m: name 'resultados' is not defined"
     ]
    }
   ],
   "source": [
    "# salvando os resultados\n",
    "arquivo_salvamento = \"Experimento_liedson_pool.csv\"\n",
    "FileManager.salvar_resultados(resultados, arquivo_salvamento)"
   ]
  },
  {
   "cell_type": "markdown",
   "metadata": {},
   "source": [
    "# **5. Análise Estatística dos Resultados**"
   ]
  },
  {
   "cell_type": "markdown",
   "metadata": {},
   "source": [
    "## Leitura dos Resultados"
   ]
  },
  {
   "cell_type": "code",
   "execution_count": null,
   "metadata": {},
   "outputs": [],
   "source": [
    "# 1. Ler o arquivo CSV\n",
    "df = pd.read_csv(arquivo_salvamento)"
   ]
  },
  {
   "cell_type": "markdown",
   "metadata": {},
   "source": [
    "## Tabelas de Resultados"
   ]
  },
  {
   "cell_type": "code",
   "execution_count": null,
   "metadata": {},
   "outputs": [],
   "source": [
    "# 3. Agrupar por modelo e calcular estatísticas\n",
    "summary = df.groupby(['serie', 'modelo']).agg(\n",
    "    mae_mean=('mae', 'mean'),\n",
    "    mae_std=('mae', 'std'),\n",
    "    qtd_deteccoes_mean=('qtd_deteccoes', 'mean'),\n",
    "    qtd_deteccoes_std=('qtd_deteccoes', 'std')\n",
    ").reset_index()"
   ]
  },
  {
   "cell_type": "markdown",
   "metadata": {},
   "source": [
    "### Média do MAE"
   ]
  },
  {
   "cell_type": "code",
   "execution_count": null,
   "metadata": {},
   "outputs": [
    {
     "data": {
      "text/html": [
       "<div>\n",
       "<style scoped>\n",
       "    .dataframe tbody tr th:only-of-type {\n",
       "        vertical-align: middle;\n",
       "    }\n",
       "\n",
       "    .dataframe tbody tr th {\n",
       "        vertical-align: top;\n",
       "    }\n",
       "\n",
       "    .dataframe thead th {\n",
       "        text-align: right;\n",
       "    }\n",
       "</style>\n",
       "<table border=\"1\" class=\"dataframe\">\n",
       "  <thead>\n",
       "    <tr style=\"text-align: right;\">\n",
       "      <th>modelo</th>\n",
       "      <th>BayesianLinear</th>\n",
       "      <th>HoeffdingTreeRegressorModelo</th>\n",
       "      <th>LOR</th>\n",
       "      <th>LR + ADWIN</th>\n",
       "      <th>LR + HDDM_A</th>\n",
       "      <th>LR + KSWIN</th>\n",
       "      <th>OSELMModelo</th>\n",
       "    </tr>\n",
       "    <tr>\n",
       "      <th>serie</th>\n",
       "      <th></th>\n",
       "      <th></th>\n",
       "      <th></th>\n",
       "      <th></th>\n",
       "      <th></th>\n",
       "      <th></th>\n",
       "      <th></th>\n",
       "    </tr>\n",
       "  </thead>\n",
       "  <tbody>\n",
       "    <tr>\n",
       "      <th>AAPL</th>\n",
       "      <td>0.007968</td>\n",
       "      <td>NaN</td>\n",
       "      <td>0.006560</td>\n",
       "      <td>0.008157</td>\n",
       "      <td>0.010096</td>\n",
       "      <td>0.006900</td>\n",
       "      <td>0.015353</td>\n",
       "    </tr>\n",
       "    <tr>\n",
       "      <th>B3SA3.SA</th>\n",
       "      <td>0.029469</td>\n",
       "      <td>0.038586</td>\n",
       "      <td>0.030192</td>\n",
       "      <td>0.030514</td>\n",
       "      <td>0.030429</td>\n",
       "      <td>0.034437</td>\n",
       "      <td>0.044037</td>\n",
       "    </tr>\n",
       "    <tr>\n",
       "      <th>BVSP</th>\n",
       "      <td>0.017539</td>\n",
       "      <td>0.024016</td>\n",
       "      <td>0.015884</td>\n",
       "      <td>0.019567</td>\n",
       "      <td>0.020428</td>\n",
       "      <td>0.016491</td>\n",
       "      <td>0.022046</td>\n",
       "    </tr>\n",
       "    <tr>\n",
       "      <th>DJI</th>\n",
       "      <td>0.013574</td>\n",
       "      <td>0.017122</td>\n",
       "      <td>0.012131</td>\n",
       "      <td>0.020260</td>\n",
       "      <td>0.041150</td>\n",
       "      <td>0.013411</td>\n",
       "      <td>0.018635</td>\n",
       "    </tr>\n",
       "    <tr>\n",
       "      <th>GSPC</th>\n",
       "      <td>0.005660</td>\n",
       "      <td>0.120804</td>\n",
       "      <td>0.005113</td>\n",
       "      <td>0.006533</td>\n",
       "      <td>0.004958</td>\n",
       "      <td>0.005663</td>\n",
       "      <td>0.011397</td>\n",
       "    </tr>\n",
       "    <tr>\n",
       "      <th>IXIC</th>\n",
       "      <td>0.008735</td>\n",
       "      <td>0.051417</td>\n",
       "      <td>0.007570</td>\n",
       "      <td>0.010195</td>\n",
       "      <td>0.008503</td>\n",
       "      <td>0.008171</td>\n",
       "      <td>0.015228</td>\n",
       "    </tr>\n",
       "    <tr>\n",
       "      <th>USDBRLX</th>\n",
       "      <td>0.019844</td>\n",
       "      <td>0.026357</td>\n",
       "      <td>0.019662</td>\n",
       "      <td>0.019719</td>\n",
       "      <td>0.020380</td>\n",
       "      <td>0.021868</td>\n",
       "      <td>0.025008</td>\n",
       "    </tr>\n",
       "  </tbody>\n",
       "</table>\n",
       "</div>"
      ],
      "text/plain": [
       "modelo    BayesianLinear  HoeffdingTreeRegressorModelo       LOR  LR + ADWIN  \\\n",
       "serie                                                                          \n",
       "AAPL            0.007968                           NaN  0.006560    0.008157   \n",
       "B3SA3.SA        0.029469                      0.038586  0.030192    0.030514   \n",
       "BVSP            0.017539                      0.024016  0.015884    0.019567   \n",
       "DJI             0.013574                      0.017122  0.012131    0.020260   \n",
       "GSPC            0.005660                      0.120804  0.005113    0.006533   \n",
       "IXIC            0.008735                      0.051417  0.007570    0.010195   \n",
       "USDBRLX         0.019844                      0.026357  0.019662    0.019719   \n",
       "\n",
       "modelo    LR + HDDM_A  LR + KSWIN  OSELMModelo  \n",
       "serie                                           \n",
       "AAPL         0.010096    0.006900     0.015353  \n",
       "B3SA3.SA     0.030429    0.034437     0.044037  \n",
       "BVSP         0.020428    0.016491     0.022046  \n",
       "DJI          0.041150    0.013411     0.018635  \n",
       "GSPC         0.004958    0.005663     0.011397  \n",
       "IXIC         0.008503    0.008171     0.015228  \n",
       "USDBRLX      0.020380    0.021868     0.025008  "
      ]
     },
     "execution_count": 25,
     "metadata": {},
     "output_type": "execute_result"
    }
   ],
   "source": [
    "# Tabela para a média do MAE\n",
    "mae_mean_table = summary.pivot(index='serie', columns='modelo', values='mae_mean')\n",
    "mae_mean_table"
   ]
  },
  {
   "cell_type": "markdown",
   "metadata": {},
   "source": [
    "### Desvio do MAE"
   ]
  },
  {
   "cell_type": "code",
   "execution_count": null,
   "metadata": {},
   "outputs": [
    {
     "data": {
      "text/html": [
       "<div>\n",
       "<style scoped>\n",
       "    .dataframe tbody tr th:only-of-type {\n",
       "        vertical-align: middle;\n",
       "    }\n",
       "\n",
       "    .dataframe tbody tr th {\n",
       "        vertical-align: top;\n",
       "    }\n",
       "\n",
       "    .dataframe thead th {\n",
       "        text-align: right;\n",
       "    }\n",
       "</style>\n",
       "<table border=\"1\" class=\"dataframe\">\n",
       "  <thead>\n",
       "    <tr style=\"text-align: right;\">\n",
       "      <th>modelo</th>\n",
       "      <th>BayesianLinear</th>\n",
       "      <th>HoeffdingTreeRegressorModelo</th>\n",
       "      <th>LOR</th>\n",
       "      <th>LR + ADWIN</th>\n",
       "      <th>LR + HDDM_A</th>\n",
       "      <th>LR + KSWIN</th>\n",
       "      <th>OSELMModelo</th>\n",
       "    </tr>\n",
       "    <tr>\n",
       "      <th>serie</th>\n",
       "      <th></th>\n",
       "      <th></th>\n",
       "      <th></th>\n",
       "      <th></th>\n",
       "      <th></th>\n",
       "      <th></th>\n",
       "      <th></th>\n",
       "    </tr>\n",
       "  </thead>\n",
       "  <tbody>\n",
       "    <tr>\n",
       "      <th>AAPL</th>\n",
       "      <td>0.0</td>\n",
       "      <td>NaN</td>\n",
       "      <td>0.000051</td>\n",
       "      <td>0.0</td>\n",
       "      <td>0.0</td>\n",
       "      <td>0.000184</td>\n",
       "      <td>0.004629</td>\n",
       "    </tr>\n",
       "    <tr>\n",
       "      <th>B3SA3.SA</th>\n",
       "      <td>0.0</td>\n",
       "      <td>0.0</td>\n",
       "      <td>0.000570</td>\n",
       "      <td>0.0</td>\n",
       "      <td>0.0</td>\n",
       "      <td>0.002385</td>\n",
       "      <td>0.005444</td>\n",
       "    </tr>\n",
       "    <tr>\n",
       "      <th>BVSP</th>\n",
       "      <td>0.0</td>\n",
       "      <td>0.0</td>\n",
       "      <td>0.000269</td>\n",
       "      <td>0.0</td>\n",
       "      <td>0.0</td>\n",
       "      <td>0.000389</td>\n",
       "      <td>0.002917</td>\n",
       "    </tr>\n",
       "    <tr>\n",
       "      <th>DJI</th>\n",
       "      <td>0.0</td>\n",
       "      <td>0.0</td>\n",
       "      <td>0.000358</td>\n",
       "      <td>0.0</td>\n",
       "      <td>0.0</td>\n",
       "      <td>0.000482</td>\n",
       "      <td>0.003416</td>\n",
       "    </tr>\n",
       "    <tr>\n",
       "      <th>GSPC</th>\n",
       "      <td>0.0</td>\n",
       "      <td>0.0</td>\n",
       "      <td>0.000243</td>\n",
       "      <td>0.0</td>\n",
       "      <td>0.0</td>\n",
       "      <td>0.000262</td>\n",
       "      <td>0.002241</td>\n",
       "    </tr>\n",
       "    <tr>\n",
       "      <th>IXIC</th>\n",
       "      <td>0.0</td>\n",
       "      <td>0.0</td>\n",
       "      <td>0.000130</td>\n",
       "      <td>0.0</td>\n",
       "      <td>0.0</td>\n",
       "      <td>0.000245</td>\n",
       "      <td>0.003367</td>\n",
       "    </tr>\n",
       "    <tr>\n",
       "      <th>USDBRLX</th>\n",
       "      <td>0.0</td>\n",
       "      <td>0.0</td>\n",
       "      <td>0.000315</td>\n",
       "      <td>0.0</td>\n",
       "      <td>0.0</td>\n",
       "      <td>0.001207</td>\n",
       "      <td>0.002132</td>\n",
       "    </tr>\n",
       "  </tbody>\n",
       "</table>\n",
       "</div>"
      ],
      "text/plain": [
       "modelo    BayesianLinear  HoeffdingTreeRegressorModelo       LOR  LR + ADWIN  \\\n",
       "serie                                                                          \n",
       "AAPL                 0.0                           NaN  0.000051         0.0   \n",
       "B3SA3.SA             0.0                           0.0  0.000570         0.0   \n",
       "BVSP                 0.0                           0.0  0.000269         0.0   \n",
       "DJI                  0.0                           0.0  0.000358         0.0   \n",
       "GSPC                 0.0                           0.0  0.000243         0.0   \n",
       "IXIC                 0.0                           0.0  0.000130         0.0   \n",
       "USDBRLX              0.0                           0.0  0.000315         0.0   \n",
       "\n",
       "modelo    LR + HDDM_A  LR + KSWIN  OSELMModelo  \n",
       "serie                                           \n",
       "AAPL              0.0    0.000184     0.004629  \n",
       "B3SA3.SA          0.0    0.002385     0.005444  \n",
       "BVSP              0.0    0.000389     0.002917  \n",
       "DJI               0.0    0.000482     0.003416  \n",
       "GSPC              0.0    0.000262     0.002241  \n",
       "IXIC              0.0    0.000245     0.003367  \n",
       "USDBRLX           0.0    0.001207     0.002132  "
      ]
     },
     "execution_count": 26,
     "metadata": {},
     "output_type": "execute_result"
    }
   ],
   "source": [
    "# Tabela para o desvio padrão do MAE\n",
    "mae_std_table = summary.pivot(index='serie', columns='modelo', values='mae_std')\n",
    "mae_std_table"
   ]
  },
  {
   "cell_type": "markdown",
   "metadata": {},
   "source": [
    "### Média Detecções"
   ]
  },
  {
   "cell_type": "code",
   "execution_count": null,
   "metadata": {},
   "outputs": [
    {
     "data": {
      "text/html": [
       "<div>\n",
       "<style scoped>\n",
       "    .dataframe tbody tr th:only-of-type {\n",
       "        vertical-align: middle;\n",
       "    }\n",
       "\n",
       "    .dataframe tbody tr th {\n",
       "        vertical-align: top;\n",
       "    }\n",
       "\n",
       "    .dataframe thead th {\n",
       "        text-align: right;\n",
       "    }\n",
       "</style>\n",
       "<table border=\"1\" class=\"dataframe\">\n",
       "  <thead>\n",
       "    <tr style=\"text-align: right;\">\n",
       "      <th>modelo</th>\n",
       "      <th>BayesianLinear</th>\n",
       "      <th>HoeffdingTreeRegressorModelo</th>\n",
       "      <th>LOR</th>\n",
       "      <th>LR + ADWIN</th>\n",
       "      <th>LR + HDDM_A</th>\n",
       "      <th>LR + KSWIN</th>\n",
       "      <th>OSELMModelo</th>\n",
       "    </tr>\n",
       "    <tr>\n",
       "      <th>serie</th>\n",
       "      <th></th>\n",
       "      <th></th>\n",
       "      <th></th>\n",
       "      <th></th>\n",
       "      <th></th>\n",
       "      <th></th>\n",
       "      <th></th>\n",
       "    </tr>\n",
       "  </thead>\n",
       "  <tbody>\n",
       "    <tr>\n",
       "      <th>AAPL</th>\n",
       "      <td>NaN</td>\n",
       "      <td>NaN</td>\n",
       "      <td>19.900000</td>\n",
       "      <td>2.0</td>\n",
       "      <td>0.0</td>\n",
       "      <td>19.900000</td>\n",
       "      <td>NaN</td>\n",
       "    </tr>\n",
       "    <tr>\n",
       "      <th>B3SA3.SA</th>\n",
       "      <td>NaN</td>\n",
       "      <td>NaN</td>\n",
       "      <td>6.466667</td>\n",
       "      <td>1.0</td>\n",
       "      <td>0.0</td>\n",
       "      <td>6.500000</td>\n",
       "      <td>NaN</td>\n",
       "    </tr>\n",
       "    <tr>\n",
       "      <th>BVSP</th>\n",
       "      <td>NaN</td>\n",
       "      <td>NaN</td>\n",
       "      <td>13.100000</td>\n",
       "      <td>2.0</td>\n",
       "      <td>0.0</td>\n",
       "      <td>13.100000</td>\n",
       "      <td>NaN</td>\n",
       "    </tr>\n",
       "    <tr>\n",
       "      <th>DJI</th>\n",
       "      <td>NaN</td>\n",
       "      <td>NaN</td>\n",
       "      <td>13.933333</td>\n",
       "      <td>2.0</td>\n",
       "      <td>1.0</td>\n",
       "      <td>13.900000</td>\n",
       "      <td>NaN</td>\n",
       "    </tr>\n",
       "    <tr>\n",
       "      <th>GSPC</th>\n",
       "      <td>NaN</td>\n",
       "      <td>NaN</td>\n",
       "      <td>37.933333</td>\n",
       "      <td>2.0</td>\n",
       "      <td>0.0</td>\n",
       "      <td>37.966667</td>\n",
       "      <td>NaN</td>\n",
       "    </tr>\n",
       "    <tr>\n",
       "      <th>IXIC</th>\n",
       "      <td>NaN</td>\n",
       "      <td>NaN</td>\n",
       "      <td>21.366667</td>\n",
       "      <td>2.0</td>\n",
       "      <td>0.0</td>\n",
       "      <td>21.266667</td>\n",
       "      <td>NaN</td>\n",
       "    </tr>\n",
       "    <tr>\n",
       "      <th>USDBRLX</th>\n",
       "      <td>NaN</td>\n",
       "      <td>NaN</td>\n",
       "      <td>9.100000</td>\n",
       "      <td>1.0</td>\n",
       "      <td>0.0</td>\n",
       "      <td>9.066667</td>\n",
       "      <td>NaN</td>\n",
       "    </tr>\n",
       "  </tbody>\n",
       "</table>\n",
       "</div>"
      ],
      "text/plain": [
       "modelo    BayesianLinear  HoeffdingTreeRegressorModelo        LOR  LR + ADWIN  \\\n",
       "serie                                                                           \n",
       "AAPL                 NaN                           NaN  19.900000         2.0   \n",
       "B3SA3.SA             NaN                           NaN   6.466667         1.0   \n",
       "BVSP                 NaN                           NaN  13.100000         2.0   \n",
       "DJI                  NaN                           NaN  13.933333         2.0   \n",
       "GSPC                 NaN                           NaN  37.933333         2.0   \n",
       "IXIC                 NaN                           NaN  21.366667         2.0   \n",
       "USDBRLX              NaN                           NaN   9.100000         1.0   \n",
       "\n",
       "modelo    LR + HDDM_A  LR + KSWIN  OSELMModelo  \n",
       "serie                                           \n",
       "AAPL              0.0   19.900000          NaN  \n",
       "B3SA3.SA          0.0    6.500000          NaN  \n",
       "BVSP              0.0   13.100000          NaN  \n",
       "DJI               1.0   13.900000          NaN  \n",
       "GSPC              0.0   37.966667          NaN  \n",
       "IXIC              0.0   21.266667          NaN  \n",
       "USDBRLX           0.0    9.066667          NaN  "
      ]
     },
     "execution_count": 27,
     "metadata": {},
     "output_type": "execute_result"
    }
   ],
   "source": [
    "# Tabela para a média das detecções\n",
    "deteccoes_mean_table = summary.pivot(index='serie', columns='modelo', values='qtd_deteccoes_mean')\n",
    "deteccoes_mean_table"
   ]
  },
  {
   "cell_type": "markdown",
   "metadata": {},
   "source": [
    "## Teste Estatístico"
   ]
  },
  {
   "cell_type": "code",
   "execution_count": null,
   "metadata": {},
   "outputs": [
    {
     "data": {
      "text/html": [
       "<div>\n",
       "<style scoped>\n",
       "    .dataframe tbody tr th:only-of-type {\n",
       "        vertical-align: middle;\n",
       "    }\n",
       "\n",
       "    .dataframe tbody tr th {\n",
       "        vertical-align: top;\n",
       "    }\n",
       "\n",
       "    .dataframe thead th {\n",
       "        text-align: right;\n",
       "    }\n",
       "</style>\n",
       "<table border=\"1\" class=\"dataframe\">\n",
       "  <thead>\n",
       "    <tr style=\"text-align: right;\">\n",
       "      <th></th>\n",
       "      <th>modelo</th>\n",
       "      <th>BayesianLinear</th>\n",
       "      <th>HoeffdingTreeRegressorModelo</th>\n",
       "      <th>LOR</th>\n",
       "      <th>LR + ADWIN</th>\n",
       "      <th>LR + HDDM_A</th>\n",
       "      <th>LR + KSWIN</th>\n",
       "      <th>OSELMModelo</th>\n",
       "    </tr>\n",
       "    <tr>\n",
       "      <th>serie</th>\n",
       "      <th>repeticao</th>\n",
       "      <th></th>\n",
       "      <th></th>\n",
       "      <th></th>\n",
       "      <th></th>\n",
       "      <th></th>\n",
       "      <th></th>\n",
       "      <th></th>\n",
       "    </tr>\n",
       "  </thead>\n",
       "  <tbody>\n",
       "    <tr>\n",
       "      <th rowspan=\"5\" valign=\"top\">B3SA3.SA</th>\n",
       "      <th>1</th>\n",
       "      <td>0.029469</td>\n",
       "      <td>0.038586</td>\n",
       "      <td>0.030204</td>\n",
       "      <td>0.030514</td>\n",
       "      <td>0.030429</td>\n",
       "      <td>0.036730</td>\n",
       "      <td>0.039604</td>\n",
       "    </tr>\n",
       "    <tr>\n",
       "      <th>2</th>\n",
       "      <td>0.029469</td>\n",
       "      <td>0.038586</td>\n",
       "      <td>0.031210</td>\n",
       "      <td>0.030514</td>\n",
       "      <td>0.030429</td>\n",
       "      <td>0.032134</td>\n",
       "      <td>0.049373</td>\n",
       "    </tr>\n",
       "    <tr>\n",
       "      <th>3</th>\n",
       "      <td>0.029469</td>\n",
       "      <td>0.038586</td>\n",
       "      <td>0.029962</td>\n",
       "      <td>0.030514</td>\n",
       "      <td>0.030429</td>\n",
       "      <td>0.035914</td>\n",
       "      <td>0.053153</td>\n",
       "    </tr>\n",
       "    <tr>\n",
       "      <th>4</th>\n",
       "      <td>0.029469</td>\n",
       "      <td>0.038586</td>\n",
       "      <td>0.030563</td>\n",
       "      <td>0.030514</td>\n",
       "      <td>0.030429</td>\n",
       "      <td>0.033101</td>\n",
       "      <td>0.046166</td>\n",
       "    </tr>\n",
       "    <tr>\n",
       "      <th>5</th>\n",
       "      <td>0.029469</td>\n",
       "      <td>0.038586</td>\n",
       "      <td>0.030146</td>\n",
       "      <td>0.030514</td>\n",
       "      <td>0.030429</td>\n",
       "      <td>0.038922</td>\n",
       "      <td>0.041592</td>\n",
       "    </tr>\n",
       "    <tr>\n",
       "      <th>...</th>\n",
       "      <th>...</th>\n",
       "      <td>...</td>\n",
       "      <td>...</td>\n",
       "      <td>...</td>\n",
       "      <td>...</td>\n",
       "      <td>...</td>\n",
       "      <td>...</td>\n",
       "      <td>...</td>\n",
       "    </tr>\n",
       "    <tr>\n",
       "      <th rowspan=\"5\" valign=\"top\">USDBRLX</th>\n",
       "      <th>26</th>\n",
       "      <td>0.019844</td>\n",
       "      <td>0.026357</td>\n",
       "      <td>0.019518</td>\n",
       "      <td>0.019719</td>\n",
       "      <td>0.020380</td>\n",
       "      <td>0.020224</td>\n",
       "      <td>0.024769</td>\n",
       "    </tr>\n",
       "    <tr>\n",
       "      <th>27</th>\n",
       "      <td>0.019844</td>\n",
       "      <td>0.026357</td>\n",
       "      <td>0.019454</td>\n",
       "      <td>0.019719</td>\n",
       "      <td>0.020380</td>\n",
       "      <td>0.020069</td>\n",
       "      <td>0.025693</td>\n",
       "    </tr>\n",
       "    <tr>\n",
       "      <th>28</th>\n",
       "      <td>0.019844</td>\n",
       "      <td>0.026357</td>\n",
       "      <td>0.019763</td>\n",
       "      <td>0.019719</td>\n",
       "      <td>0.020380</td>\n",
       "      <td>0.023248</td>\n",
       "      <td>0.024967</td>\n",
       "    </tr>\n",
       "    <tr>\n",
       "      <th>29</th>\n",
       "      <td>0.019844</td>\n",
       "      <td>0.026357</td>\n",
       "      <td>0.019418</td>\n",
       "      <td>0.019719</td>\n",
       "      <td>0.020380</td>\n",
       "      <td>0.022014</td>\n",
       "      <td>0.029709</td>\n",
       "    </tr>\n",
       "    <tr>\n",
       "      <th>30</th>\n",
       "      <td>0.019844</td>\n",
       "      <td>0.026357</td>\n",
       "      <td>0.020497</td>\n",
       "      <td>0.019719</td>\n",
       "      <td>0.020380</td>\n",
       "      <td>0.021449</td>\n",
       "      <td>0.025320</td>\n",
       "    </tr>\n",
       "  </tbody>\n",
       "</table>\n",
       "<p>180 rows × 7 columns</p>\n",
       "</div>"
      ],
      "text/plain": [
       "modelo              BayesianLinear  HoeffdingTreeRegressorModelo       LOR  \\\n",
       "serie    repeticao                                                           \n",
       "B3SA3.SA 1                0.029469                      0.038586  0.030204   \n",
       "         2                0.029469                      0.038586  0.031210   \n",
       "         3                0.029469                      0.038586  0.029962   \n",
       "         4                0.029469                      0.038586  0.030563   \n",
       "         5                0.029469                      0.038586  0.030146   \n",
       "...                            ...                           ...       ...   \n",
       "USDBRLX  26               0.019844                      0.026357  0.019518   \n",
       "         27               0.019844                      0.026357  0.019454   \n",
       "         28               0.019844                      0.026357  0.019763   \n",
       "         29               0.019844                      0.026357  0.019418   \n",
       "         30               0.019844                      0.026357  0.020497   \n",
       "\n",
       "modelo              LR + ADWIN  LR + HDDM_A  LR + KSWIN  OSELMModelo  \n",
       "serie    repeticao                                                    \n",
       "B3SA3.SA 1            0.030514     0.030429    0.036730     0.039604  \n",
       "         2            0.030514     0.030429    0.032134     0.049373  \n",
       "         3            0.030514     0.030429    0.035914     0.053153  \n",
       "         4            0.030514     0.030429    0.033101     0.046166  \n",
       "         5            0.030514     0.030429    0.038922     0.041592  \n",
       "...                        ...          ...         ...          ...  \n",
       "USDBRLX  26           0.019719     0.020380    0.020224     0.024769  \n",
       "         27           0.019719     0.020380    0.020069     0.025693  \n",
       "         28           0.019719     0.020380    0.023248     0.024967  \n",
       "         29           0.019719     0.020380    0.022014     0.029709  \n",
       "         30           0.019719     0.020380    0.021449     0.025320  \n",
       "\n",
       "[180 rows x 7 columns]"
      ]
     },
     "execution_count": 28,
     "metadata": {},
     "output_type": "execute_result"
    }
   ],
   "source": [
    "# 4. Preparar dados para autorank (uma linha por repetição, colunas por modelo)\n",
    "df_mae = df.pivot_table(index=[\"serie\", \"repeticao\"], columns=\"modelo\", values=\"mae\")\n",
    "# Remover qualquer valor NaN para análise (caso haja)\n",
    "df_mae = df_mae.dropna()\n",
    "# Tabela de desempenho\n",
    "df_mae"
   ]
  },
  {
   "cell_type": "code",
   "execution_count": null,
   "metadata": {},
   "outputs": [
    {
     "name": "stdout",
     "output_type": "stream",
     "text": [
      "The statistical analysis was conducted for 7 populations with 180 paired samples.\n",
      "The family-wise significance level of the tests is alpha=0.050.\n",
      "We rejected the null hypothesis that the population is normal for the populations HoeffdingTreeRegressorModelo (p=0.000), OSELMModelo (p=0.000), LR + ADWIN (p=0.000), LR + HDDM_A (p=0.000), LR + KSWIN (p=0.000), BayesianLinear (p=0.000), and LOR (p=0.000). Therefore, we assume that not all populations are normal.\n",
      "Because we have more than two populations and the populations and some of them are not normal, we use the non-parametric Friedman test as omnibus test to determine if there are any significant differences between the median values of the populations. We use the post-hoc Nemenyi test to infer which differences are significant. We report the median (MD), the median absolute deviation (MAD) and the mean rank (MR) among all populations over the samples. Differences between populations are significant, if the difference of the mean rank is greater than the critical distance CD=0.671 of the Nemenyi test.\n",
      "We reject the null hypothesis (p=0.000) of the Friedman test that there is no difference in the central tendency of the populations HoeffdingTreeRegressorModelo (MD=-0.032+-0.006, MAD=0.012, MR=6.356), OSELMModelo (MD=-0.020+-0.003, MAD=0.006, MR=5.878), LR + ADWIN (MD=-0.020+-0.000, MAD=0.005, MR=4.256), LR + HDDM_A (MD=-0.020+-0.000, MAD=0.011, MR=3.894), LR + KSWIN (MD=-0.015+-0.002, MAD=0.007, MR=3.333), BayesianLinear (MD=-0.016+-0.002, MAD=0.006, MR=2.844), and LOR (MD=-0.014+-0.002, MAD=0.006, MR=1.439). Therefore, we assume that there is a statistically significant difference between the median values of the populations.\n",
      "Based on the post-hoc Nemenyi test, we assume that there are no significant differences within the following groups: HoeffdingTreeRegressorModelo and OSELMModelo; LR + ADWIN and LR + HDDM_A; LR + HDDM_A and LR + KSWIN; LR + KSWIN and BayesianLinear. All other differences are significant.\n"
     ]
    }
   ],
   "source": [
    "# computing the most appropriate statistical test\n",
    "results = autorank(-df_mae)\n",
    "# printing the report\n",
    "create_report(results)"
   ]
  },
  {
   "cell_type": "code",
   "execution_count": null,
   "metadata": {},
   "outputs": [
    {
     "data": {
      "text/plain": [
       "<Axes: >"
      ]
     },
     "execution_count": 30,
     "metadata": {},
     "output_type": "execute_result"
    },
    {
     "data": {
      "image/png": "[encoded data removed]",
      "text/plain": [
       "<Figure size 600x215 with 1 Axes>"
      ]
     },
     "metadata": {},
     "output_type": "display_data"
    }
   ],
   "source": [
    "# plotting the results\n",
    "plot_stats(results, allow_insignificant=True)"
   ]
  }
 ],
 "metadata": {
  "kernelspec": {
   "display_name": "Python 3",
   "language": "python",
   "name": "python3"
  },
  "language_info": {
   "codemirror_mode": {
    "name": "ipython",
    "version": 3
   },
   "file_extension": ".py",
   "mimetype": "text/x-python",
   "name": "python",
   "nbconvert_exporter": "python",
   "pygments_lexer": "ipython3",
   "version": "3.12.5"
  }
 },
 "nbformat": 4,
 "nbformat_minor": 2
}
