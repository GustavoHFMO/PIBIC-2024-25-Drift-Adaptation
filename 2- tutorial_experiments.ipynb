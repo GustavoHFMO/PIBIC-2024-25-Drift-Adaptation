{
 "cells": [
  {
   "cell_type": "markdown",
   "metadata": {},
   "source": [
    "# **1. Importações**"
   ]
  },
  {
   "cell_type": "markdown",
   "metadata": {},
   "source": [
    "## Importação dos Avaliadores"
   ]
  },
  {
   "cell_type": "code",
   "execution_count": 1,
   "metadata": {},
   "outputs": [],
   "source": [
    "#%pip install autorank"
   ]
  },
  {
   "cell_type": "code",
   "execution_count": 2,
   "metadata": {},
   "outputs": [],
   "source": [
    "from utils.FileManager import FileManager\n",
    "import pandas as pd\n",
    "import numpy as np\n",
    "\n",
    "import warnings\n",
    "warnings.filterwarnings(\"ignore\")\n",
    "\n",
    "from autorank import autorank, plot_stats, create_report\n"
   ]
  },
  {
   "cell_type": "code",
   "execution_count": 3,
   "metadata": {},
   "outputs": [],
   "source": [
    "from avaliacao.AvaliadorDriftBase import AvaliadorBatch\n",
    "from avaliacao.AvaliadorDriftBase import AvaliadorPassivo\n",
    "from experimento.ExperimentoDrift import Experimento"
   ]
  },
  {
   "cell_type": "markdown",
   "metadata": {},
   "source": [
    "## Frameworks"
   ]
  },
  {
   "cell_type": "code",
   "execution_count": 4,
   "metadata": {},
   "outputs": [],
   "source": [
    "# importando o framework\n",
    "from frame_oasis.OASIS import OASIS\n",
    "from frame_winks.WinKS import WinKS"
   ]
  },
  {
   "cell_type": "markdown",
   "metadata": {},
   "source": [
    "## Importação dos Detectores"
   ]
  },
  {
   "cell_type": "code",
   "execution_count": 5,
   "metadata": {},
   "outputs": [],
   "source": [
    "# Importando detectores de drift\n",
    "from detectores.ADWINDetector import ADWINDetector\n",
    "from detectores.DDMDetector import DDMDetector\n",
    "from detectores.EDDMDetector import EDDMDetector\n",
    "from detectores.FHDDMDetector import FHDDMDetector\n",
    "from detectores.HDDM_ADetector import HDDM_ADetector\n",
    "from detectores.PageHinkleyDetector import PageHinkleyDetector\n",
    "from detectores.HDDM_WDetector import HDDM_WDetector\n",
    "from detectores.KSWINDetector import KSWINDetector"
   ]
  },
  {
   "cell_type": "markdown",
   "metadata": {},
   "source": [
    "## Importação dos Regressores Off-line"
   ]
  },
  {
   "cell_type": "code",
   "execution_count": 6,
   "metadata": {},
   "outputs": [],
   "source": [
    "# Importando modelos offline\n",
    "from regressores.modelosOffline.LinearRegressionModelo import LinearRegressionModelo\n",
    "from regressores.modelosOffline.KneighborsRegressorModelo import KneighborsRegressorModelo\n",
    "from regressores.modelosOffline.LassoRegressionModelo import LassoRegressionModelo\n",
    "from regressores.modelosOffline.RidgeRegressionModelo import RidgeRegressionModelo\n",
    "from regressores.modelosOffline.SVRModelo import SVRModelo\n",
    "from regressores.modelosOffline.RandomForestModelo import RandomForestModelo\n",
    "from regressores.modelosOffline.MLPRegressorModelo import MLPRegressorModelo"
   ]
  },
  {
   "cell_type": "markdown",
   "metadata": {},
   "source": [
    "## Importação dos Regressores On-line"
   ]
  },
  {
   "cell_type": "code",
   "execution_count": 7,
   "metadata": {},
   "outputs": [],
   "source": [
    "# Importando modelos online\n",
    "from regressores.modelosOnline.BayesianLinearRegressionModelo import BayesianLinearRegressionModelo\n",
    "from regressores.modelosOnline.HoeffdingTreeRegressorModelo import HoeffdingTreeRegressorModelo\n",
    "from regressores.modelosOnline.KNNRegressorOnlineModelo import KNNRegressorOnlineModelo\n",
    "from regressores.modelosOnline.LinearRegressionOnlineModelo import LinearRegressionOnlineModelo\n",
    "from regressores.modelosOnline.OSELM import OSELMModelo"
   ]
  },
  {
   "cell_type": "markdown",
   "metadata": {},
   "source": [
    "# **2. Definindo os Dados e Parâmetros**"
   ]
  },
  {
   "cell_type": "markdown",
   "metadata": {},
   "source": [
    "## Dados"
   ]
  },
  {
   "cell_type": "code",
   "execution_count": 8,
   "metadata": {},
   "outputs": [],
   "source": [
    "# Lista de séries temporais\n",
    "series = [\n",
    "    \"AAPL\",\n",
    "    \"B3SA3.SA\",\n",
    "    \"IXIC\",\n",
    "    \"DJI\",\n",
    "    \"GSPC\",\n",
    "    \"BVSP\",\n",
    "    \"USDBRLX\"\n",
    "]"
   ]
  },
  {
   "cell_type": "markdown",
   "metadata": {},
   "source": [
    "## Parâmetros"
   ]
  },
  {
   "cell_type": "code",
   "execution_count": 9,
   "metadata": {},
   "outputs": [],
   "source": [
    "# Parâmetros do experimento\n",
    "tamanho_batch = 300\n",
    "lags = 10\n",
    "repeticoes = 30  # Número de execuções para cada modelo-série"
   ]
  },
  {
   "cell_type": "markdown",
   "metadata": {},
   "source": [
    "# **3. Definindo os Modelos e Avaliadores**"
   ]
  },
  {
   "cell_type": "markdown",
   "metadata": {},
   "source": [
    "\"\"\"{\n",
    "        \"nome\": \"LR + ADWIN\",\n",
    "        \"avaliador\": AvaliadorBatch(),\n",
    "        \"modelo\": LinearRegressionModelo,\n",
    "        \"detector\": ADWINDetector,\n",
    "        \"deterministico\": True\n",
    "    },\n",
    "    \n",
    "    {\n",
    "        \"nome\": \"LR + HDDM_A\",\n",
    "        \"avaliador\": AvaliadorBatch(),\n",
    "        \"modelo\": LinearRegressionModelo,\n",
    "        \"detector\": HDDM_ADetector,\n",
    "        \"deterministico\": True\n",
    "    },\n",
    "    \n",
    "    {\n",
    "        \"nome\": \"LinearRegressionOnlineModelo\",\n",
    "        \"avaliador\": AvaliadorPassivo(),\n",
    "        \"modelo\": LinearRegressionOnlineModelo,\n",
    "        \"detector\": None,  # Passivo, não usa detector\n",
    "        \"deterministico\": True\n",
    "    },\n",
    "    \n",
    "    {\n",
    "        \"nome\": \"HoeffdingTreeRegressorModelo\",\n",
    "        \"avaliador\": AvaliadorPassivo(),\n",
    "        \"modelo\": HoeffdingTreeRegressorModelo,\n",
    "        \"detector\": None,  # Passivo, não usa detector\n",
    "        \"deterministico\": True\n",
    "    },\n",
    "    \n",
    "    {\n",
    "        \"nome\": \"OSELMModelo\",\n",
    "        \"avaliador\": AvaliadorPassivo(),\n",
    "        \"modelo\": OSELMModelo,\n",
    "        \"detector\": None,  # Passivo, não usa detector\n",
    "        \"deterministico\": False\n",
    "    },\"\"\""
   ]
  },
  {
   "cell_type": "code",
   "execution_count": 10,
   "metadata": {},
   "outputs": [],
   "source": [
    "modelos = [\n",
    "    \n",
    "    {\n",
    "        \"nome\": \"LR + KSWIN\",\n",
    "        \"avaliador\": AvaliadorBatch(),\n",
    "        \"modelo\": LinearRegressionModelo,\n",
    "        \"detector\": KSWINDetector,\n",
    "        \"deterministico\": False\n",
    "    },\n",
    "    \n",
    "    {\n",
    "        \"nome\": \"WinKS - Retrain Unique\",\n",
    "        \"avaliador\": WinKS(LinearRegressionModelo, KSWINDetector, incremental=False),\n",
    "        \"modelo\": LinearRegressionModelo,\n",
    "        \"detector\": KSWINDetector,\n",
    "        \"deterministico\": False\n",
    "    },\n",
    "    \n",
    "     {\n",
    "        \"nome\": \"WinKS - Retrain Incremental\",\n",
    "        \"avaliador\": WinKS(LinearRegressionModelo, KSWINDetector, incremental=True),\n",
    "        \"modelo\": LinearRegressionModelo,\n",
    "        \"detector\": KSWINDetector,\n",
    "        \"deterministico\": False\n",
    "    },\n",
    "    \n",
    "    \n",
    "    \n",
    "]"
   ]
  },
  {
   "cell_type": "markdown",
   "metadata": {},
   "source": [
    "# **4. Executando o Experimento**"
   ]
  },
  {
   "cell_type": "code",
   "execution_count": null,
   "metadata": {},
   "outputs": [
    {
     "name": "stdout",
     "output_type": "stream",
     "text": [
      "Executando LR + KSWIN na série: AAPL\n"
     ]
    }
   ],
   "source": [
    "# Criando e executando o experimento\n",
    "experimento = Experimento(\n",
    "    series=series,\n",
    "    modelos=modelos,\n",
    "    tamanho_batch=tamanho_batch,\n",
    "    lags=lags,\n",
    "    repeticoes=repeticoes\n",
    ")\n",
    "\n",
    "resultados = experimento.executar()"
   ]
  },
  {
   "cell_type": "code",
   "execution_count": null,
   "metadata": {},
   "outputs": [
    {
     "name": "stdout",
     "output_type": "stream",
     "text": [
      "\n",
      "Resultados salvos em: Experimento_gabriel.csv\n"
     ]
    },
    {
     "data": {
      "text/plain": [
       "'Experimento_gabriel.csv'"
      ]
     },
     "execution_count": 12,
     "metadata": {},
     "output_type": "execute_result"
    }
   ],
   "source": [
    "# salvando os resultados\n",
    "arquivo_salvamento = \"Experimento_gabriel.csv\"\n",
    "FileManager.salvar_resultados(resultados, arquivo_salvamento)"
   ]
  },
  {
   "cell_type": "markdown",
   "metadata": {},
   "source": [
    "# **5. Análise Estatística dos Resultados**"
   ]
  },
  {
   "cell_type": "markdown",
   "metadata": {},
   "source": [
    "## Leitura dos Resultados"
   ]
  },
  {
   "cell_type": "code",
   "execution_count": null,
   "metadata": {},
   "outputs": [],
   "source": [
    "# 1. Ler o arquivo CSV\n",
    "df = pd.read_csv(arquivo_salvamento)"
   ]
  },
  {
   "cell_type": "markdown",
   "metadata": {},
   "source": [
    "## Tabelas de Resultados"
   ]
  },
  {
   "cell_type": "code",
   "execution_count": null,
   "metadata": {},
   "outputs": [],
   "source": [
    "# 3. Agrupar por modelo e calcular estatísticas\n",
    "summary = df.groupby(['serie', 'modelo']).agg(\n",
    "    mae_mean=('mae', 'mean'),\n",
    "    mae_std=('mae', 'std'),\n",
    "    qtd_deteccoes_mean=('qtd_deteccoes', 'mean'),\n",
    "    qtd_deteccoes_std=('qtd_deteccoes', 'std')\n",
    ").reset_index()"
   ]
  },
  {
   "cell_type": "markdown",
   "metadata": {},
   "source": [
    "### Média do MAE"
   ]
  },
  {
   "cell_type": "code",
   "execution_count": null,
   "metadata": {},
   "outputs": [
    {
     "data": {
      "text/html": [
       "<div>\n",
       "<style scoped>\n",
       "    .dataframe tbody tr th:only-of-type {\n",
       "        vertical-align: middle;\n",
       "    }\n",
       "\n",
       "    .dataframe tbody tr th {\n",
       "        vertical-align: top;\n",
       "    }\n",
       "\n",
       "    .dataframe thead th {\n",
       "        text-align: right;\n",
       "    }\n",
       "</style>\n",
       "<table border=\"1\" class=\"dataframe\">\n",
       "  <thead>\n",
       "    <tr style=\"text-align: right;\">\n",
       "      <th>modelo</th>\n",
       "      <th>HoeffdingTreeRegressorModelo</th>\n",
       "      <th>LR + ADWIN</th>\n",
       "      <th>LR + HDDM_A</th>\n",
       "      <th>LR + KSWIN</th>\n",
       "      <th>LinearRegressionOnlineModelo</th>\n",
       "      <th>OSELMModelo</th>\n",
       "      <th>WinKS</th>\n",
       "    </tr>\n",
       "    <tr>\n",
       "      <th>serie</th>\n",
       "      <th></th>\n",
       "      <th></th>\n",
       "      <th></th>\n",
       "      <th></th>\n",
       "      <th></th>\n",
       "      <th></th>\n",
       "      <th></th>\n",
       "    </tr>\n",
       "  </thead>\n",
       "  <tbody>\n",
       "    <tr>\n",
       "      <th>AAPL</th>\n",
       "      <td>0.083247</td>\n",
       "      <td>0.008157</td>\n",
       "      <td>0.010096</td>\n",
       "      <td>0.006900</td>\n",
       "      <td>1.202358e+10</td>\n",
       "      <td>0.015353</td>\n",
       "      <td>0.006586</td>\n",
       "    </tr>\n",
       "    <tr>\n",
       "      <th>B3SA3.SA</th>\n",
       "      <td>0.038586</td>\n",
       "      <td>0.030514</td>\n",
       "      <td>0.030429</td>\n",
       "      <td>0.034437</td>\n",
       "      <td>3.858648e-02</td>\n",
       "      <td>0.044037</td>\n",
       "      <td>0.029714</td>\n",
       "    </tr>\n",
       "    <tr>\n",
       "      <th>BVSP</th>\n",
       "      <td>0.024016</td>\n",
       "      <td>0.019567</td>\n",
       "      <td>0.020428</td>\n",
       "      <td>0.016491</td>\n",
       "      <td>2.259444e-02</td>\n",
       "      <td>0.022046</td>\n",
       "      <td>0.016191</td>\n",
       "    </tr>\n",
       "    <tr>\n",
       "      <th>DJI</th>\n",
       "      <td>0.017122</td>\n",
       "      <td>0.020260</td>\n",
       "      <td>0.041150</td>\n",
       "      <td>0.013411</td>\n",
       "      <td>1.685547e-02</td>\n",
       "      <td>0.018635</td>\n",
       "      <td>0.012315</td>\n",
       "    </tr>\n",
       "    <tr>\n",
       "      <th>GSPC</th>\n",
       "      <td>0.120804</td>\n",
       "      <td>0.006533</td>\n",
       "      <td>0.004958</td>\n",
       "      <td>0.005663</td>\n",
       "      <td>1.788413e+10</td>\n",
       "      <td>0.011397</td>\n",
       "      <td>0.005132</td>\n",
       "    </tr>\n",
       "    <tr>\n",
       "      <th>IXIC</th>\n",
       "      <td>0.051417</td>\n",
       "      <td>0.010195</td>\n",
       "      <td>0.008503</td>\n",
       "      <td>0.008171</td>\n",
       "      <td>9.147726e+09</td>\n",
       "      <td>0.015228</td>\n",
       "      <td>0.007677</td>\n",
       "    </tr>\n",
       "    <tr>\n",
       "      <th>USDBRLX</th>\n",
       "      <td>0.026357</td>\n",
       "      <td>0.019719</td>\n",
       "      <td>0.020380</td>\n",
       "      <td>0.021868</td>\n",
       "      <td>2.635711e-02</td>\n",
       "      <td>0.025008</td>\n",
       "      <td>0.019817</td>\n",
       "    </tr>\n",
       "  </tbody>\n",
       "</table>\n",
       "</div>"
      ],
      "text/plain": [
       "modelo    HoeffdingTreeRegressorModelo  LR + ADWIN  LR + HDDM_A  LR + KSWIN  \\\n",
       "serie                                                                         \n",
       "AAPL                          0.083247    0.008157     0.010096    0.006900   \n",
       "B3SA3.SA                      0.038586    0.030514     0.030429    0.034437   \n",
       "BVSP                          0.024016    0.019567     0.020428    0.016491   \n",
       "DJI                           0.017122    0.020260     0.041150    0.013411   \n",
       "GSPC                          0.120804    0.006533     0.004958    0.005663   \n",
       "IXIC                          0.051417    0.010195     0.008503    0.008171   \n",
       "USDBRLX                       0.026357    0.019719     0.020380    0.021868   \n",
       "\n",
       "modelo    LinearRegressionOnlineModelo  OSELMModelo     WinKS  \n",
       "serie                                                          \n",
       "AAPL                      1.202358e+10     0.015353  0.006586  \n",
       "B3SA3.SA                  3.858648e-02     0.044037  0.029714  \n",
       "BVSP                      2.259444e-02     0.022046  0.016191  \n",
       "DJI                       1.685547e-02     0.018635  0.012315  \n",
       "GSPC                      1.788413e+10     0.011397  0.005132  \n",
       "IXIC                      9.147726e+09     0.015228  0.007677  \n",
       "USDBRLX                   2.635711e-02     0.025008  0.019817  "
      ]
     },
     "execution_count": 23,
     "metadata": {},
     "output_type": "execute_result"
    }
   ],
   "source": [
    "# Tabela para a média do MAE\n",
    "mae_mean_table = summary.pivot(index='serie', columns='modelo', values='mae_mean')\n",
    "mae_mean_table"
   ]
  },
  {
   "cell_type": "markdown",
   "metadata": {},
   "source": [
    "### Desvio do MAE"
   ]
  },
  {
   "cell_type": "code",
   "execution_count": null,
   "metadata": {},
   "outputs": [
    {
     "data": {
      "text/html": [
       "<div>\n",
       "<style scoped>\n",
       "    .dataframe tbody tr th:only-of-type {\n",
       "        vertical-align: middle;\n",
       "    }\n",
       "\n",
       "    .dataframe tbody tr th {\n",
       "        vertical-align: top;\n",
       "    }\n",
       "\n",
       "    .dataframe thead th {\n",
       "        text-align: right;\n",
       "    }\n",
       "</style>\n",
       "<table border=\"1\" class=\"dataframe\">\n",
       "  <thead>\n",
       "    <tr style=\"text-align: right;\">\n",
       "      <th>modelo</th>\n",
       "      <th>HoeffdingTreeRegressorModelo</th>\n",
       "      <th>LR + ADWIN</th>\n",
       "      <th>LR + HDDM_A</th>\n",
       "      <th>LR + KSWIN</th>\n",
       "      <th>LinearRegressionOnlineModelo</th>\n",
       "      <th>OSELMModelo</th>\n",
       "      <th>WinKS</th>\n",
       "    </tr>\n",
       "    <tr>\n",
       "      <th>serie</th>\n",
       "      <th></th>\n",
       "      <th></th>\n",
       "      <th></th>\n",
       "      <th></th>\n",
       "      <th></th>\n",
       "      <th></th>\n",
       "      <th></th>\n",
       "    </tr>\n",
       "  </thead>\n",
       "  <tbody>\n",
       "    <tr>\n",
       "      <th>AAPL</th>\n",
       "      <td>0.0</td>\n",
       "      <td>0.0</td>\n",
       "      <td>0.0</td>\n",
       "      <td>0.000184</td>\n",
       "      <td>0.0</td>\n",
       "      <td>0.004629</td>\n",
       "      <td>0.000052</td>\n",
       "    </tr>\n",
       "    <tr>\n",
       "      <th>B3SA3.SA</th>\n",
       "      <td>0.0</td>\n",
       "      <td>0.0</td>\n",
       "      <td>0.0</td>\n",
       "      <td>0.002385</td>\n",
       "      <td>0.0</td>\n",
       "      <td>0.005444</td>\n",
       "      <td>0.000448</td>\n",
       "    </tr>\n",
       "    <tr>\n",
       "      <th>BVSP</th>\n",
       "      <td>0.0</td>\n",
       "      <td>0.0</td>\n",
       "      <td>0.0</td>\n",
       "      <td>0.000389</td>\n",
       "      <td>0.0</td>\n",
       "      <td>0.002917</td>\n",
       "      <td>0.000435</td>\n",
       "    </tr>\n",
       "    <tr>\n",
       "      <th>DJI</th>\n",
       "      <td>0.0</td>\n",
       "      <td>0.0</td>\n",
       "      <td>0.0</td>\n",
       "      <td>0.000482</td>\n",
       "      <td>0.0</td>\n",
       "      <td>0.003416</td>\n",
       "      <td>0.000418</td>\n",
       "    </tr>\n",
       "    <tr>\n",
       "      <th>GSPC</th>\n",
       "      <td>0.0</td>\n",
       "      <td>0.0</td>\n",
       "      <td>0.0</td>\n",
       "      <td>0.000262</td>\n",
       "      <td>0.0</td>\n",
       "      <td>0.002241</td>\n",
       "      <td>0.000266</td>\n",
       "    </tr>\n",
       "    <tr>\n",
       "      <th>IXIC</th>\n",
       "      <td>0.0</td>\n",
       "      <td>0.0</td>\n",
       "      <td>0.0</td>\n",
       "      <td>0.000245</td>\n",
       "      <td>0.0</td>\n",
       "      <td>0.003367</td>\n",
       "      <td>0.000317</td>\n",
       "    </tr>\n",
       "    <tr>\n",
       "      <th>USDBRLX</th>\n",
       "      <td>0.0</td>\n",
       "      <td>0.0</td>\n",
       "      <td>0.0</td>\n",
       "      <td>0.001207</td>\n",
       "      <td>0.0</td>\n",
       "      <td>0.002132</td>\n",
       "      <td>0.000249</td>\n",
       "    </tr>\n",
       "  </tbody>\n",
       "</table>\n",
       "</div>"
      ],
      "text/plain": [
       "modelo    HoeffdingTreeRegressorModelo  LR + ADWIN  LR + HDDM_A  LR + KSWIN  \\\n",
       "serie                                                                         \n",
       "AAPL                               0.0         0.0          0.0    0.000184   \n",
       "B3SA3.SA                           0.0         0.0          0.0    0.002385   \n",
       "BVSP                               0.0         0.0          0.0    0.000389   \n",
       "DJI                                0.0         0.0          0.0    0.000482   \n",
       "GSPC                               0.0         0.0          0.0    0.000262   \n",
       "IXIC                               0.0         0.0          0.0    0.000245   \n",
       "USDBRLX                            0.0         0.0          0.0    0.001207   \n",
       "\n",
       "modelo    LinearRegressionOnlineModelo  OSELMModelo     WinKS  \n",
       "serie                                                          \n",
       "AAPL                               0.0     0.004629  0.000052  \n",
       "B3SA3.SA                           0.0     0.005444  0.000448  \n",
       "BVSP                               0.0     0.002917  0.000435  \n",
       "DJI                                0.0     0.003416  0.000418  \n",
       "GSPC                               0.0     0.002241  0.000266  \n",
       "IXIC                               0.0     0.003367  0.000317  \n",
       "USDBRLX                            0.0     0.002132  0.000249  "
      ]
     },
     "execution_count": 24,
     "metadata": {},
     "output_type": "execute_result"
    }
   ],
   "source": [
    "# Tabela para o desvio padrão do MAE\n",
    "mae_std_table = summary.pivot(index='serie', columns='modelo', values='mae_std')\n",
    "mae_std_table"
   ]
  },
  {
   "cell_type": "markdown",
   "metadata": {},
   "source": [
    "### Média Detecções"
   ]
  },
  {
   "cell_type": "code",
   "execution_count": null,
   "metadata": {},
   "outputs": [
    {
     "data": {
      "text/html": [
       "<div>\n",
       "<style scoped>\n",
       "    .dataframe tbody tr th:only-of-type {\n",
       "        vertical-align: middle;\n",
       "    }\n",
       "\n",
       "    .dataframe tbody tr th {\n",
       "        vertical-align: top;\n",
       "    }\n",
       "\n",
       "    .dataframe thead th {\n",
       "        text-align: right;\n",
       "    }\n",
       "</style>\n",
       "<table border=\"1\" class=\"dataframe\">\n",
       "  <thead>\n",
       "    <tr style=\"text-align: right;\">\n",
       "      <th>modelo</th>\n",
       "      <th>HoeffdingTreeRegressorModelo</th>\n",
       "      <th>LR + ADWIN</th>\n",
       "      <th>LR + HDDM_A</th>\n",
       "      <th>LR + KSWIN</th>\n",
       "      <th>LinearRegressionOnlineModelo</th>\n",
       "      <th>OSELMModelo</th>\n",
       "      <th>WinKS</th>\n",
       "    </tr>\n",
       "    <tr>\n",
       "      <th>serie</th>\n",
       "      <th></th>\n",
       "      <th></th>\n",
       "      <th></th>\n",
       "      <th></th>\n",
       "      <th></th>\n",
       "      <th></th>\n",
       "      <th></th>\n",
       "    </tr>\n",
       "  </thead>\n",
       "  <tbody>\n",
       "    <tr>\n",
       "      <th>AAPL</th>\n",
       "      <td>NaN</td>\n",
       "      <td>2.0</td>\n",
       "      <td>0.0</td>\n",
       "      <td>19.900000</td>\n",
       "      <td>NaN</td>\n",
       "      <td>NaN</td>\n",
       "      <td>20.733333</td>\n",
       "    </tr>\n",
       "    <tr>\n",
       "      <th>B3SA3.SA</th>\n",
       "      <td>NaN</td>\n",
       "      <td>1.0</td>\n",
       "      <td>0.0</td>\n",
       "      <td>6.500000</td>\n",
       "      <td>NaN</td>\n",
       "      <td>NaN</td>\n",
       "      <td>6.500000</td>\n",
       "    </tr>\n",
       "    <tr>\n",
       "      <th>BVSP</th>\n",
       "      <td>NaN</td>\n",
       "      <td>2.0</td>\n",
       "      <td>0.0</td>\n",
       "      <td>13.100000</td>\n",
       "      <td>NaN</td>\n",
       "      <td>NaN</td>\n",
       "      <td>14.133333</td>\n",
       "    </tr>\n",
       "    <tr>\n",
       "      <th>DJI</th>\n",
       "      <td>NaN</td>\n",
       "      <td>2.0</td>\n",
       "      <td>1.0</td>\n",
       "      <td>13.900000</td>\n",
       "      <td>NaN</td>\n",
       "      <td>NaN</td>\n",
       "      <td>14.266667</td>\n",
       "    </tr>\n",
       "    <tr>\n",
       "      <th>GSPC</th>\n",
       "      <td>NaN</td>\n",
       "      <td>2.0</td>\n",
       "      <td>0.0</td>\n",
       "      <td>37.966667</td>\n",
       "      <td>NaN</td>\n",
       "      <td>NaN</td>\n",
       "      <td>39.666667</td>\n",
       "    </tr>\n",
       "    <tr>\n",
       "      <th>IXIC</th>\n",
       "      <td>NaN</td>\n",
       "      <td>2.0</td>\n",
       "      <td>0.0</td>\n",
       "      <td>21.266667</td>\n",
       "      <td>NaN</td>\n",
       "      <td>NaN</td>\n",
       "      <td>22.000000</td>\n",
       "    </tr>\n",
       "    <tr>\n",
       "      <th>USDBRLX</th>\n",
       "      <td>NaN</td>\n",
       "      <td>1.0</td>\n",
       "      <td>0.0</td>\n",
       "      <td>9.066667</td>\n",
       "      <td>NaN</td>\n",
       "      <td>NaN</td>\n",
       "      <td>8.666667</td>\n",
       "    </tr>\n",
       "  </tbody>\n",
       "</table>\n",
       "</div>"
      ],
      "text/plain": [
       "modelo    HoeffdingTreeRegressorModelo  LR + ADWIN  LR + HDDM_A  LR + KSWIN  \\\n",
       "serie                                                                         \n",
       "AAPL                               NaN         2.0          0.0   19.900000   \n",
       "B3SA3.SA                           NaN         1.0          0.0    6.500000   \n",
       "BVSP                               NaN         2.0          0.0   13.100000   \n",
       "DJI                                NaN         2.0          1.0   13.900000   \n",
       "GSPC                               NaN         2.0          0.0   37.966667   \n",
       "IXIC                               NaN         2.0          0.0   21.266667   \n",
       "USDBRLX                            NaN         1.0          0.0    9.066667   \n",
       "\n",
       "modelo    LinearRegressionOnlineModelo  OSELMModelo      WinKS  \n",
       "serie                                                           \n",
       "AAPL                               NaN          NaN  20.733333  \n",
       "B3SA3.SA                           NaN          NaN   6.500000  \n",
       "BVSP                               NaN          NaN  14.133333  \n",
       "DJI                                NaN          NaN  14.266667  \n",
       "GSPC                               NaN          NaN  39.666667  \n",
       "IXIC                               NaN          NaN  22.000000  \n",
       "USDBRLX                            NaN          NaN   8.666667  "
      ]
     },
     "execution_count": 25,
     "metadata": {},
     "output_type": "execute_result"
    }
   ],
   "source": [
    "# Tabela para a média das detecções\n",
    "deteccoes_mean_table = summary.pivot(index='serie', columns='modelo', values='qtd_deteccoes_mean')\n",
    "deteccoes_mean_table"
   ]
  },
  {
   "cell_type": "markdown",
   "metadata": {},
   "source": [
    "## Teste Estatístico"
   ]
  },
  {
   "cell_type": "code",
   "execution_count": null,
   "metadata": {},
   "outputs": [
    {
     "data": {
      "text/html": [
       "<div>\n",
       "<style scoped>\n",
       "    .dataframe tbody tr th:only-of-type {\n",
       "        vertical-align: middle;\n",
       "    }\n",
       "\n",
       "    .dataframe tbody tr th {\n",
       "        vertical-align: top;\n",
       "    }\n",
       "\n",
       "    .dataframe thead th {\n",
       "        text-align: right;\n",
       "    }\n",
       "</style>\n",
       "<table border=\"1\" class=\"dataframe\">\n",
       "  <thead>\n",
       "    <tr style=\"text-align: right;\">\n",
       "      <th></th>\n",
       "      <th>modelo</th>\n",
       "      <th>HoeffdingTreeRegressorModelo</th>\n",
       "      <th>LR + ADWIN</th>\n",
       "      <th>LR + HDDM_A</th>\n",
       "      <th>LR + KSWIN</th>\n",
       "      <th>LinearRegressionOnlineModelo</th>\n",
       "      <th>OSELMModelo</th>\n",
       "      <th>WinKS</th>\n",
       "    </tr>\n",
       "    <tr>\n",
       "      <th>serie</th>\n",
       "      <th>repeticao</th>\n",
       "      <th></th>\n",
       "      <th></th>\n",
       "      <th></th>\n",
       "      <th></th>\n",
       "      <th></th>\n",
       "      <th></th>\n",
       "      <th></th>\n",
       "    </tr>\n",
       "  </thead>\n",
       "  <tbody>\n",
       "    <tr>\n",
       "      <th rowspan=\"5\" valign=\"top\">AAPL</th>\n",
       "      <th>1</th>\n",
       "      <td>0.083247</td>\n",
       "      <td>0.008157</td>\n",
       "      <td>0.010096</td>\n",
       "      <td>0.006715</td>\n",
       "      <td>1.202358e+10</td>\n",
       "      <td>0.011293</td>\n",
       "      <td>0.006652</td>\n",
       "    </tr>\n",
       "    <tr>\n",
       "      <th>2</th>\n",
       "      <td>0.083247</td>\n",
       "      <td>0.008157</td>\n",
       "      <td>0.010096</td>\n",
       "      <td>0.006851</td>\n",
       "      <td>1.202358e+10</td>\n",
       "      <td>0.015890</td>\n",
       "      <td>0.006600</td>\n",
       "    </tr>\n",
       "    <tr>\n",
       "      <th>3</th>\n",
       "      <td>0.083247</td>\n",
       "      <td>0.008157</td>\n",
       "      <td>0.010096</td>\n",
       "      <td>0.007529</td>\n",
       "      <td>1.202358e+10</td>\n",
       "      <td>0.012196</td>\n",
       "      <td>0.006520</td>\n",
       "    </tr>\n",
       "    <tr>\n",
       "      <th>4</th>\n",
       "      <td>0.083247</td>\n",
       "      <td>0.008157</td>\n",
       "      <td>0.010096</td>\n",
       "      <td>0.006843</td>\n",
       "      <td>1.202358e+10</td>\n",
       "      <td>0.024605</td>\n",
       "      <td>0.006546</td>\n",
       "    </tr>\n",
       "    <tr>\n",
       "      <th>5</th>\n",
       "      <td>0.083247</td>\n",
       "      <td>0.008157</td>\n",
       "      <td>0.010096</td>\n",
       "      <td>0.006866</td>\n",
       "      <td>1.202358e+10</td>\n",
       "      <td>0.012972</td>\n",
       "      <td>0.006567</td>\n",
       "    </tr>\n",
       "    <tr>\n",
       "      <th>...</th>\n",
       "      <th>...</th>\n",
       "      <td>...</td>\n",
       "      <td>...</td>\n",
       "      <td>...</td>\n",
       "      <td>...</td>\n",
       "      <td>...</td>\n",
       "      <td>...</td>\n",
       "      <td>...</td>\n",
       "    </tr>\n",
       "    <tr>\n",
       "      <th rowspan=\"5\" valign=\"top\">USDBRLX</th>\n",
       "      <th>26</th>\n",
       "      <td>0.026357</td>\n",
       "      <td>0.019719</td>\n",
       "      <td>0.020380</td>\n",
       "      <td>0.020224</td>\n",
       "      <td>2.635711e-02</td>\n",
       "      <td>0.024769</td>\n",
       "      <td>0.019851</td>\n",
       "    </tr>\n",
       "    <tr>\n",
       "      <th>27</th>\n",
       "      <td>0.026357</td>\n",
       "      <td>0.019719</td>\n",
       "      <td>0.020380</td>\n",
       "      <td>0.020069</td>\n",
       "      <td>2.635711e-02</td>\n",
       "      <td>0.025693</td>\n",
       "      <td>0.019607</td>\n",
       "    </tr>\n",
       "    <tr>\n",
       "      <th>28</th>\n",
       "      <td>0.026357</td>\n",
       "      <td>0.019719</td>\n",
       "      <td>0.020380</td>\n",
       "      <td>0.023248</td>\n",
       "      <td>2.635711e-02</td>\n",
       "      <td>0.024967</td>\n",
       "      <td>0.020017</td>\n",
       "    </tr>\n",
       "    <tr>\n",
       "      <th>29</th>\n",
       "      <td>0.026357</td>\n",
       "      <td>0.019719</td>\n",
       "      <td>0.020380</td>\n",
       "      <td>0.022014</td>\n",
       "      <td>2.635711e-02</td>\n",
       "      <td>0.029709</td>\n",
       "      <td>0.019874</td>\n",
       "    </tr>\n",
       "    <tr>\n",
       "      <th>30</th>\n",
       "      <td>0.026357</td>\n",
       "      <td>0.019719</td>\n",
       "      <td>0.020380</td>\n",
       "      <td>0.021449</td>\n",
       "      <td>2.635711e-02</td>\n",
       "      <td>0.025320</td>\n",
       "      <td>0.019627</td>\n",
       "    </tr>\n",
       "  </tbody>\n",
       "</table>\n",
       "<p>210 rows × 7 columns</p>\n",
       "</div>"
      ],
      "text/plain": [
       "modelo             HoeffdingTreeRegressorModelo  LR + ADWIN  LR + HDDM_A  \\\n",
       "serie   repeticao                                                          \n",
       "AAPL    1                              0.083247    0.008157     0.010096   \n",
       "        2                              0.083247    0.008157     0.010096   \n",
       "        3                              0.083247    0.008157     0.010096   \n",
       "        4                              0.083247    0.008157     0.010096   \n",
       "        5                              0.083247    0.008157     0.010096   \n",
       "...                                         ...         ...          ...   \n",
       "USDBRLX 26                             0.026357    0.019719     0.020380   \n",
       "        27                             0.026357    0.019719     0.020380   \n",
       "        28                             0.026357    0.019719     0.020380   \n",
       "        29                             0.026357    0.019719     0.020380   \n",
       "        30                             0.026357    0.019719     0.020380   \n",
       "\n",
       "modelo             LR + KSWIN  LinearRegressionOnlineModelo  OSELMModelo  \\\n",
       "serie   repeticao                                                          \n",
       "AAPL    1            0.006715                  1.202358e+10     0.011293   \n",
       "        2            0.006851                  1.202358e+10     0.015890   \n",
       "        3            0.007529                  1.202358e+10     0.012196   \n",
       "        4            0.006843                  1.202358e+10     0.024605   \n",
       "        5            0.006866                  1.202358e+10     0.012972   \n",
       "...                       ...                           ...          ...   \n",
       "USDBRLX 26           0.020224                  2.635711e-02     0.024769   \n",
       "        27           0.020069                  2.635711e-02     0.025693   \n",
       "        28           0.023248                  2.635711e-02     0.024967   \n",
       "        29           0.022014                  2.635711e-02     0.029709   \n",
       "        30           0.021449                  2.635711e-02     0.025320   \n",
       "\n",
       "modelo                WinKS  \n",
       "serie   repeticao            \n",
       "AAPL    1          0.006652  \n",
       "        2          0.006600  \n",
       "        3          0.006520  \n",
       "        4          0.006546  \n",
       "        5          0.006567  \n",
       "...                     ...  \n",
       "USDBRLX 26         0.019851  \n",
       "        27         0.019607  \n",
       "        28         0.020017  \n",
       "        29         0.019874  \n",
       "        30         0.019627  \n",
       "\n",
       "[210 rows x 7 columns]"
      ]
     },
     "execution_count": 26,
     "metadata": {},
     "output_type": "execute_result"
    }
   ],
   "source": [
    "# 4. Preparar dados para autorank (uma linha por repetição, colunas por modelo)\n",
    "df_mae = df.pivot_table(index=[\"serie\", \"repeticao\"], columns=\"modelo\", values=\"mae\")\n",
    "# Remover qualquer valor NaN para análise (caso haja)\n",
    "df_mae = df_mae.dropna()\n",
    "# Tabela de desempenho\n",
    "df_mae"
   ]
  },
  {
   "cell_type": "code",
   "execution_count": null,
   "metadata": {},
   "outputs": [
    {
     "name": "stdout",
     "output_type": "stream",
     "text": [
      "The statistical analysis was conducted for 7 populations with 210 paired samples.\n",
      "The family-wise significance level of the tests is alpha=0.050.\n",
      "We rejected the null hypothesis that the population is normal for the populations LinearRegressionOnlineModelo (p=0.000), HoeffdingTreeRegressorModelo (p=0.000), OSELMModelo (p=0.000), LR + HDDM_A (p=0.000), LR + ADWIN (p=0.000), LR + KSWIN (p=0.000), and WinKS (p=0.000). Therefore, we assume that not all populations are normal.\n",
      "Because we have more than two populations and the populations and some of them are not normal, we use the non-parametric Friedman test as omnibus test to determine if there are any significant differences between the median values of the populations. We use the post-hoc Nemenyi test to infer which differences are significant. We report the median (MD), the median absolute deviation (MAD) and the mean rank (MR) among all populations over the samples. Differences between populations are significant, if the difference of the mean rank is greater than the critical distance CD=0.622 of the Nemenyi test.\n",
      "We reject the null hypothesis (p=0.000) of the Friedman test that there is no difference in the central tendency of the populations LinearRegressionOnlineModelo (MD=-0.039+-4573862881.581, MAD=0.022, MR=5.976), HoeffdingTreeRegressorModelo (MD=-0.039+-0.013, MAD=0.015, MR=5.876), OSELMModelo (MD=-0.019+-0.003, MAD=0.005, MR=5.181), LR + HDDM_A (MD=-0.020+-0.005, MAD=0.010, MR=3.510), LR + ADWIN (MD=-0.020+-0.005, MAD=0.009, MR=3.467), LR + KSWIN (MD=-0.013+-0.004, MAD=0.007, MR=2.676), and WinKS (MD=-0.012+-0.004, MAD=0.006, MR=1.314). Therefore, we assume that there is a statistically significant difference between the median values of the populations.\n",
      "Based on the post-hoc Nemenyi test, we assume that there are no significant differences within the following groups: LinearRegressionOnlineModelo and HoeffdingTreeRegressorModelo; LR + HDDM_A and LR + ADWIN. All other differences are significant.\n"
     ]
    }
   ],
   "source": [
    "# computing the most appropriate statistical test\n",
    "results = autorank(-df_mae)\n",
    "# printing the report\n",
    "create_report(results)"
   ]
  },
  {
   "cell_type": "code",
   "execution_count": null,
   "metadata": {},
   "outputs": [
    {
     "data": {
      "text/plain": [
       "<Axes: >"
      ]
     },
     "execution_count": 28,
     "metadata": {},
     "output_type": "execute_result"
    },
    {
     "data": {
      "image/png": "[encoded data removed]",
      "text/plain": [
       "<Figure size 600x195 with 1 Axes>"
      ]
     },
     "metadata": {},
     "output_type": "display_data"
    }
   ],
   "source": [
    "# plotting the results\n",
    "plot_stats(results, allow_insignificant=True)"
   ]
  }
 ],
 "metadata": {
  "kernelspec": {
   "display_name": "Python 3",
   "language": "python",
   "name": "python3"
  },
  "language_info": {
   "codemirror_mode": {
    "name": "ipython",
    "version": 3
   },
   "file_extension": ".py",
   "mimetype": "text/x-python",
   "name": "python",
   "nbconvert_exporter": "python",
   "pygments_lexer": "ipython3",
   "version": "3.12.5"
  }
 },
 "nbformat": 4,
 "nbformat_minor": 2
}
